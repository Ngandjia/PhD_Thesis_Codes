{
 "cells": [
  {
   "cell_type": "markdown",
   "id": "54cf5eb2",
   "metadata": {},
   "source": [
    "### Decomposition of symmetric powers of $V(3) \\oplus V(3)$"
   ]
  },
  {
   "cell_type": "code",
   "execution_count": null,
   "id": "6d50db8e",
   "metadata": {},
   "outputs": [],
   "source": [
    "from Decomposition import *\n",
    "\n",
    "D = DecomposeSymmetric()\n",
    "\n",
    "for n in range(8) : \n",
    "    print('')\n",
    "    print(f'degree {n} : {D.decompose_binaries(3, 3, n)}')"
   ]
  },
  {
   "cell_type": "markdown",
   "id": "50edcd87",
   "metadata": {},
   "source": [
    "### We import the rings as well as relevant covariants to our study."
   ]
  },
  {
   "cell_type": "code",
   "execution_count": null,
   "id": "fab79f74-afb6-48d9-8b7f-67f6f08ab70c",
   "metadata": {},
   "outputs": [],
   "source": [
    "from Covariants import *\n",
    "\n",
    "R, A, j2"
   ]
  },
  {
   "cell_type": "markdown",
   "id": "6a0f759a",
   "metadata": {},
   "source": [
    "### We implement the Gröbner deformation of the ideal of a generic fiber.\n",
    "\n",
    " Note :  We use the degree reverse lexicographic order to make our computations faster."
   ]
  },
  {
   "cell_type": "code",
   "execution_count": null,
   "id": "952da61a-bdb3-4181-82a7-9d864b7d8bee",
   "metadata": {},
   "outputs": [],
   "source": [
    "import GroebnerDeformation as GrD\n",
    "\n",
    "u1 = 3\n",
    "u2, u3, u4, u5, u6, u7 = 0, 0, 2*u1^2/9, 0, 0, -u1^3/27\n",
    "\n",
    "I = ideal(j2 - u1, j41 - u2, j42 - u3, j43 - u4, j44 - u5, j45 - u6, j6 - u7)\n",
    "G = I.groebner_basis()\n",
    "\n",
    "G_tilda = [GrD.f_tilda(element) for element in G]\n",
    "G_limit = [GrD.f_limit(element) for element in G]\n",
    "\n",
    "I_tilda = ideal(G_tilda)\n",
    "I_limit = A.ideal(G_limit)\n",
    "\n",
    "I_limit.dimension()"
   ]
  },
  {
   "cell_type": "markdown",
   "id": "f0d1c0e6",
   "metadata": {},
   "source": [
    "### Degrees of elements of the Gröbner basis of $I_{limit}$ with their occurence."
   ]
  },
  {
   "cell_type": "code",
   "execution_count": 4,
   "id": "76cf0162",
   "metadata": {},
   "outputs": [],
   "source": [
    "from BasisManagement import *\n",
    "\n",
    "Basement = BasisHandler(I_limit)"
   ]
  },
  {
   "cell_type": "code",
   "execution_count": null,
   "id": "858e7d4d",
   "metadata": {},
   "outputs": [],
   "source": [
    "G = I_limit.groebner_basis()\n",
    "Basement.count_degrees(G)"
   ]
  },
  {
   "cell_type": "code",
   "execution_count": null,
   "id": "4424fd7a",
   "metadata": {},
   "outputs": [],
   "source": [
    "print(f'Gröbner basis length before optimization : {len(G)}\\n')\n",
    "G = Basement.optimize_basis(G)"
   ]
  },
  {
   "cell_type": "code",
   "execution_count": null,
   "id": "05934a88",
   "metadata": {},
   "outputs": [],
   "source": [
    "Basement.count_degrees(G)"
   ]
  },
  {
   "cell_type": "markdown",
   "id": "79c64e2f",
   "metadata": {},
   "source": [
    "### Stability of $I_{limit}$ under the action of $\\text{sl}_2$"
   ]
  },
  {
   "cell_type": "code",
   "execution_count": null,
   "id": "92244a83",
   "metadata": {},
   "outputs": [],
   "source": [
    "from DifferentialOperators import *\n",
    "\n",
    "Operator.stability(I_limit, G)"
   ]
  },
  {
   "cell_type": "markdown",
   "id": "50eb3fdb",
   "metadata": {},
   "source": [
    "### We compute the decomposition of each generator of $I_{limit}$ in terms of representations."
   ]
  },
  {
   "cell_type": "code",
   "execution_count": null,
   "id": "4f030b04",
   "metadata": {
    "scrolled": true
   },
   "outputs": [],
   "source": [
    "from WeightVectors import *\n",
    "\n",
    "Weight.nullity(G)"
   ]
  },
  {
   "cell_type": "code",
   "execution_count": null,
   "id": "1afa6eff",
   "metadata": {},
   "outputs": [],
   "source": [
    "Weight.weights(G)"
   ]
  },
  {
   "cell_type": "code",
   "execution_count": null,
   "id": "329533e7",
   "metadata": {},
   "outputs": [],
   "source": [
    "T = Weight.weight_decomposition(G)"
   ]
  },
  {
   "cell_type": "markdown",
   "id": "713d9a07",
   "metadata": {},
   "source": [
    "### A minimal set of generators for `I_limit` given by the above weight vectors."
   ]
  },
  {
   "cell_type": "code",
   "execution_count": null,
   "id": "8b941b74",
   "metadata": {},
   "outputs": [],
   "source": [
    "print(f'The lenght of T before optimization is : {len(T)}\\n')\n",
    "T0, T = Basement.optimize_basis(G, T)"
   ]
  },
  {
   "cell_type": "code",
   "execution_count": null,
   "id": "eea79fcd",
   "metadata": {},
   "outputs": [],
   "source": [
    "Basement.degree_per_binary(T)"
   ]
  },
  {
   "cell_type": "markdown",
   "id": "6911e230",
   "metadata": {},
   "source": [
    "#### $$I_{limit} \\subset\\,\\, V(0)^{\\oplus(3)} \\,\\,\\oplus\\,\\, V(3)^{\\oplus(8)}\\,\\, \\oplus\\,\\,V(5)^{\\oplus(12)}$$"
   ]
  },
  {
   "cell_type": "code",
   "execution_count": null,
   "id": "cb54870d",
   "metadata": {
    "scrolled": true
   },
   "outputs": [],
   "source": [
    "L = Weight.highest_weights(T0)"
   ]
  },
  {
   "cell_type": "code",
   "execution_count": null,
   "id": "1d0ff2b1",
   "metadata": {},
   "outputs": [],
   "source": [
    "for liste in L :\n",
    "    print(f'{len(liste)} : degree {liste[0].degree()}')"
   ]
  },
  {
   "cell_type": "code",
   "execution_count": null,
   "id": "45fe5697",
   "metadata": {},
   "outputs": [],
   "source": [
    "T0_w = []\n",
    "for liste in L :\n",
    "    T0_w.extend(liste)\n",
    "print(len(T0_w))\n",
    "ideal(T0_w) == ideal(I_limit)"
   ]
  },
  {
   "cell_type": "markdown",
   "id": "f36751b3",
   "metadata": {},
   "source": [
    "##### Therefore :\n",
    "\n",
    "`T0_w` is a list of generators of `I_limit`.<br><br>\n",
    "\n",
    "\n",
    "* The first element of  `T0_w` is of  `degree 4`  in one copy of  `V(0)` . <br><br>\n",
    "\n",
    "* The next element of  `T0_w` is of  `degree 4`  in one copy of  `V(0)` . <br><br>\n",
    "\n",
    "* The next 6 elements of  `T0_w`  are of  `degree 3`  and all in one copy of  `V(5)` . <br><br>\n",
    "\n",
    "* The next 6 elements of  `T0_w`  are of  `degree 3`  and all in one copy of  `V(5)` . <br><br>\n",
    "\n",
    "* The next 4 elements of  `T0_w`  are of  `degree 3`  and all in one copy of  `V(3)` . <br><br>\n",
    "\n",
    "* The next 4 elements of  `T0_w`  are again of  `degree 3`  and all in one copy of  `V(3)` . <br><br>\n",
    "\n",
    "* The last element of  `T0_w` is of  `degree 2`  in one copy of  `V(0)` .<br><br><br><br>"
   ]
  },
  {
   "cell_type": "code",
   "execution_count": null,
   "id": "74cbd0c7",
   "metadata": {},
   "outputs": [],
   "source": [
    "Display = Basement.optimize_basis(T0_w)"
   ]
  },
  {
   "cell_type": "markdown",
   "id": "00e9cb90",
   "metadata": {},
   "source": [
    "### The 2 copies of $V(0)$ in degree $4$. "
   ]
  },
  {
   "cell_type": "code",
   "execution_count": null,
   "id": "532ddfeb",
   "metadata": {},
   "outputs": [],
   "source": [
    "print(T0_w[0] == L[0][0] == j41/3)"
   ]
  },
  {
   "cell_type": "code",
   "execution_count": 19,
   "id": "36f380f7",
   "metadata": {},
   "outputs": [],
   "source": [
    "T0_w[0], L[0][0] = j41, j41"
   ]
  },
  {
   "cell_type": "markdown",
   "id": "840b4856",
   "metadata": {},
   "source": [
    "$j_{41}$ is the covariant generating one of the copies of $V(0)$ in degree $4$. "
   ]
  },
  {
   "cell_type": "code",
   "execution_count": null,
   "id": "1d61cf33",
   "metadata": {},
   "outputs": [],
   "source": [
    "print(T0_w[1] == L[1][0] == j42/3)"
   ]
  },
  {
   "cell_type": "code",
   "execution_count": 21,
   "id": "cd8d2779",
   "metadata": {},
   "outputs": [],
   "source": [
    "T0_w[1], L[1][0] = j42, j42"
   ]
  },
  {
   "cell_type": "markdown",
   "id": "fc30a594",
   "metadata": {},
   "source": [
    "$j_{42}$ is the covariant generating the second copy of $V(0)$ in degree $4$. "
   ]
  },
  {
   "cell_type": "markdown",
   "id": "a33967bd",
   "metadata": {},
   "source": [
    "### The copy of $V(0)$ in degree $2$."
   ]
  },
  {
   "cell_type": "code",
   "execution_count": null,
   "id": "8e151819",
   "metadata": {},
   "outputs": [],
   "source": [
    "T0_w[-1] == L[-1][0] == j2"
   ]
  },
  {
   "cell_type": "markdown",
   "id": "49069be2-cccd-46e1-93a5-65817608d56d",
   "metadata": {},
   "source": [
    "$j_{2}$ is the covariant generating the only copy of $V(0)$ in degree $2$. "
   ]
  },
  {
   "cell_type": "markdown",
   "id": "754cad98-c546-47a2-83ec-b0918f36f341",
   "metadata": {},
   "source": [
    "### The 2 copies of $V(3)$ in degree $3$.   \n",
    "We recall that a basis of the space of covariants of degree $3$ and order $3$ is given by $j_2\\gamma_{1,1}, \\,j_2\\gamma_{1,2}, \\,\\gamma_{3,1}, \\,\\gamma_{3,2}, \\,\\gamma_{3,3}$ and $\\gamma_{3,4}$."
   ]
  },
  {
   "cell_type": "code",
   "execution_count": null,
   "id": "5d17f046",
   "metadata": {},
   "outputs": [],
   "source": [
    "L_math = [j2*gamma1_1, j2*gamma1_2, gamma3_1, gamma3_2, gamma3_3, gamma3_4]\n",
    "L_greek = ['j2*gamma1_1', 'j2*gamma1_2', 'gamma3_1', 'gamma3_2', 'gamma3_3', 'gamma3_4']\n",
    "TG = []\n",
    "\n",
    "for name, covariant in zip(L_greek, L_math) :\n",
    "    for i in range(4) :\n",
    "        TG.append([diff(diff(covariant, x, i), y, 3-i), name + '--' + str(i)])\n",
    "\n",
    "TG0 = [element[0] for element in TG]\n",
    "TG1 = [element[1] for element in TG]\n",
    "len(TG1)"
   ]
  },
  {
   "cell_type": "code",
   "execution_count": null,
   "id": "eeb6a28e",
   "metadata": {},
   "outputs": [],
   "source": [
    "ideale = ideal(TG0)\n",
    "        \n",
    "for index, f in enumerate(T0_w) :\n",
    "    if f in ideale : \n",
    "        print(f\"Element = {index + 1} and degree = {f.degree()}\")"
   ]
  },
  {
   "cell_type": "code",
   "execution_count": null,
   "id": "15b872b8",
   "metadata": {},
   "outputs": [],
   "source": [
    "for element in L[5] : \n",
    "    print(element in ideale)"
   ]
  },
  {
   "cell_type": "code",
   "execution_count": null,
   "id": "9498cb22",
   "metadata": {},
   "outputs": [],
   "source": [
    "lambdaa = 1\n",
    "for j in range(len(L[5])) :\n",
    "    M = singular(A.ideal(TG0)).lift(L[5][j]).sage()\n",
    "    V = [lambdaa*QQ(element[0]) for element in M]\n",
    "    string = ''\n",
    "\n",
    "    final_sum = 0\n",
    "    for i in range(len(V)) :\n",
    "        if V[i] != 0 :\n",
    "            string += str(V[i]) + ' * ' + TG1[i] + ' + '\n",
    "            final_sum += V[i] * TG0[i]\n",
    "\n",
    "    if final_sum == lambdaa * L[5][j] :\n",
    "        print(f\"{lambdaa} L[5][{j}] = {string[:-2]}\\n\")"
   ]
  },
  {
   "cell_type": "code",
   "execution_count": null,
   "id": "e8b1bf51",
   "metadata": {},
   "outputs": [],
   "source": [
    "l = [12, 4, 2, 2]\n",
    "for index, coef in enumerate(l) :\n",
    "    L[5][index] = coef * L[5][index]  \n",
    "T0_w = []\n",
    "for element in L :\n",
    "    T0_w.extend(element)     \n",
    "print(len(T0_w))\n",
    "A.ideal(T0_w) == ideal(I_limit)"
   ]
  },
  {
   "cell_type": "code",
   "execution_count": null,
   "id": "44b81b0e",
   "metadata": {},
   "outputs": [],
   "source": [
    "lambdaa = 1\n",
    "for j in range(len(L[5])) :\n",
    "    M = singular(A.ideal(TG0)).lift(L[5][j]).sage()\n",
    "    V = [lambdaa*QQ(element[0]) for element in M]\n",
    "    string = ''\n",
    "\n",
    "    final_sum = 0\n",
    "    for i in range(len(V)) :\n",
    "        if V[i] != 0 :\n",
    "            string += str(V[i]) + ' * ' + TG1[i] + ' + '\n",
    "            final_sum += V[i] * TG0[i]\n",
    "\n",
    "    if final_sum == lambdaa * L[5][j] :\n",
    "        print(f\"{lambdaa} L[5][{j}] = {string[:-2]}\\n\")"
   ]
  },
  {
   "cell_type": "markdown",
   "id": "e1eadac8",
   "metadata": {},
   "source": [
    "Hence, the generators of `L[5]` in one copy of $V(3)$ in degree $3$ can be written as :\n",
    "\n",
    "##### $$\\frac{\\partial^3}{\\partial x^3 \\partial y^0} \\left( \\gamma_{3,3} \\right)$$<br>\n",
    "##### $$\\frac{\\partial^3}{\\partial x^2 \\partial y^1} \\left( \\gamma_{3,3} \\right)$$<br>\n",
    "##### $$\\frac{\\partial^3}{\\partial x^1 \\partial y^2} \\left( \\gamma_{3,3} \\right)$$<br>\n",
    "##### $$\\frac{\\partial^3}{\\partial x^0 \\partial y^3} \\left( \\gamma_{3,3} \\right)$$<br>"
   ]
  },
  {
   "cell_type": "code",
   "execution_count": null,
   "id": "9095546d",
   "metadata": {},
   "outputs": [],
   "source": [
    "for element in L[4] : \n",
    "    print(element in ideale)"
   ]
  },
  {
   "cell_type": "code",
   "execution_count": null,
   "id": "24f2a248",
   "metadata": {},
   "outputs": [],
   "source": [
    "lambdaa = 1\n",
    "for j in range(len(L[4])) :\n",
    "    M = singular(A.ideal(TG0)).lift(L[4][j]).sage()\n",
    "    V = [lambdaa*QQ(element[0]) for element in M]\n",
    "    string = ''\n",
    "\n",
    "    final_sum = 0\n",
    "    for i in range(len(V)) :\n",
    "        if V[i] != 0 :\n",
    "            string += str(V[i]) + ' * ' + TG1[i] + ' + '\n",
    "            final_sum += V[i] * TG0[i]\n",
    "\n",
    "    if final_sum == lambdaa * L[4][j] :\n",
    "        print(f\"{lambdaa} L[4][{j}] = {string[:-2]}\\n\")"
   ]
  },
  {
   "cell_type": "code",
   "execution_count": null,
   "id": "a8ab8669",
   "metadata": {},
   "outputs": [],
   "source": [
    "l = [15/2, 5/2, 5/4, 5/4]\n",
    "for index, coef in enumerate(l) :\n",
    "    L[4][index] = coef * L[4][index]\n",
    "T0_w = []\n",
    "for element in L :\n",
    "    T0_w.extend(element)\n",
    "        \n",
    "print(len(T0_w))\n",
    "A.ideal(T0_w) == ideal(I_limit)"
   ]
  },
  {
   "cell_type": "code",
   "execution_count": null,
   "id": "3467f992",
   "metadata": {},
   "outputs": [],
   "source": [
    "lambdaa = 1\n",
    "for j in range(len(L[4])) :\n",
    "    M = singular(A.ideal(TG0)).lift(L[4][j]).sage()\n",
    "    V = [lambdaa*QQ(element[0]) for element in M]\n",
    "    string = ''\n",
    "\n",
    "    final_sum = 0\n",
    "    for i in range(len(V)) :\n",
    "        if V[i] != 0 :\n",
    "            string += str(V[i]) + ' * ' + TG1[i] + ' + '\n",
    "            final_sum += V[i] * TG0[i]\n",
    "\n",
    "    if final_sum == lambdaa * L[4][j] :\n",
    "        print(f\"{lambdaa} L[4][{j}] = {string[:-2]}\\n\")"
   ]
  },
  {
   "cell_type": "code",
   "execution_count": 33,
   "id": "6f1be37e",
   "metadata": {},
   "outputs": [],
   "source": [
    "for i, element in enumerate(L[4]) :\n",
    "    j = 3 - i \n",
    "    L[4][i] = L[4][i] + diff(diff(j2*gamma1_1, x, j), y, i)"
   ]
  },
  {
   "cell_type": "code",
   "execution_count": null,
   "id": "1491c81d",
   "metadata": {},
   "outputs": [],
   "source": [
    "lambdaa = 1\n",
    "for j in range(len(L[4])) :\n",
    "    M = singular(ideal(TG0)).lift(L[4][j]).sage()\n",
    "    V = [lambdaa*QQ(element[0]) for element in M]\n",
    "    string = ''\n",
    "\n",
    "    final_sum = 0\n",
    "    for i in range(len(V)) :\n",
    "        if V[i] != 0 :\n",
    "            string += str(V[i]) + ' * ' + TG1[i] + ' + '\n",
    "            final_sum += V[i] * TG0[i]\n",
    "\n",
    "    if final_sum == lambdaa * L[4][j] :\n",
    "        print(f\"{lambdaa} L[4][{j}] = {string[:-2]}\\n\")"
   ]
  },
  {
   "cell_type": "code",
   "execution_count": null,
   "id": "f95e99fd",
   "metadata": {},
   "outputs": [],
   "source": [
    "T0_w = []\n",
    "for element in L :\n",
    "    T0_w.extend(element)\n",
    "print(len(T0_w))\n",
    "A.ideal(T0_w) == ideal(I_limit)"
   ]
  },
  {
   "cell_type": "markdown",
   "id": "011ae5ef",
   "metadata": {},
   "source": [
    "Hence, the generators of `L[4]` in the second copy of $V(3)$ in degree $3$ can be written as :\n",
    "\n",
    "##### $$\\frac{\\partial^3}{\\partial x^3 \\partial y^0} \\left( \\gamma_{3,2} \\right)$$<br>\n",
    "##### $$\\frac{\\partial^3}{\\partial x^2 \\partial y^1} \\left( \\gamma_{3,2} \\right)$$<br>\n",
    "##### $$\\frac{\\partial^3}{\\partial x^1 \\partial y^2} \\left( \\gamma_{3,2} \\right)$$<br>\n",
    "##### $$\\frac{\\partial^3}{\\partial x^0 \\partial y^3} \\left( \\gamma_{3,2} \\right)$$<br>"
   ]
  },
  {
   "cell_type": "markdown",
   "id": "43804327",
   "metadata": {},
   "source": [
    "### The 2 copies of $V(5)$ in degree $3$.   \n",
    "We recall that a basis of the space of covariants of degree $3$ and order $5$ is given by $\\beta_{2,1}\\gamma_{1,1},\\,\\,\\beta_{2,1}\\gamma_{1,2},\\,\\,\\beta_{2,2}\\gamma_{1,1},\\,\\,\\beta_{2,2}\\gamma_{1,2},\\,\\,\\beta_{2,3}\\gamma_{1,1}$ and $\\beta_{2,3}\\gamma_{1,2}$."
   ]
  },
  {
   "cell_type": "code",
   "execution_count": null,
   "id": "975b1ae4",
   "metadata": {},
   "outputs": [],
   "source": [
    "L_math = [beta2_1*gamma1_1, beta2_1*gamma1_2, beta2_2*gamma1_1, beta2_2*gamma1_2, beta2_3*gamma1_1, beta2_3*gamma1_2]\n",
    "L_greek = ['beta2_1*gamma1_1', 'beta2_1*gamma1_2', 'beta2_2*gamma1_1', 'beta2_2*gamma1_2', 'beta2_3*gamma1_1', 'beta2_3*gamma1_2']\n",
    "TG = []\n",
    "\n",
    "for name, covariant in zip(L_greek, L_math) :\n",
    "    for i in range(6) :\n",
    "        TG.append([diff(diff(covariant, x, i), y, 5-i), name + '--' + str(i)])\n",
    "\n",
    "TG0 = [element[0] for element in TG]\n",
    "TG1 = [element[1] for element in TG]\n",
    "len(TG1)"
   ]
  },
  {
   "cell_type": "code",
   "execution_count": null,
   "id": "f6e5d291",
   "metadata": {},
   "outputs": [],
   "source": [
    "ideale = ideal(TG0)  \n",
    "for index, f in enumerate(T0_w) :\n",
    "    if f in ideale : \n",
    "        print(f\"index = {index + 1} and degree = {f.degree()}\")"
   ]
  },
  {
   "cell_type": "code",
   "execution_count": null,
   "id": "1e89d9ea",
   "metadata": {},
   "outputs": [],
   "source": [
    "for element in L[3] : \n",
    "    print(element in ideale)"
   ]
  },
  {
   "cell_type": "code",
   "execution_count": null,
   "id": "dc63eab1",
   "metadata": {},
   "outputs": [],
   "source": [
    "lambdaa = 1\n",
    "for j in range(len(L[3])) :\n",
    "    M = singular(A.ideal(TG0)).lift(L[3][j]).sage()\n",
    "    V = [lambdaa*QQ(element[0]) for element in M]\n",
    "    string = ''\n",
    "\n",
    "    final_sum = 0\n",
    "    for i in range(len(V)) :\n",
    "        if V[i] != 0 :\n",
    "            string += str(V[i]) + ' * ' + TG1[i] + ' + '\n",
    "            final_sum += V[i] * TG0[i]\n",
    "\n",
    "    if final_sum == lambdaa * L[3][j] :\n",
    "        print(f\"{lambdaa} L[3][{j}] = {string[:-2]}\\n\")"
   ]
  },
  {
   "cell_type": "code",
   "execution_count": null,
   "id": "882544f0",
   "metadata": {},
   "outputs": [],
   "source": [
    "l = [120, 24, 6, 2, 1, 1]\n",
    "for index, coef in enumerate(l) :\n",
    "    L[3][index] = coef * L[3][index]  \n",
    "T0_w = []\n",
    "for element in L :\n",
    "    T0_w.extend(element)\n",
    "print(len(T0_w))\n",
    "A.ideal(T0_w) == ideal(I_limit)"
   ]
  },
  {
   "cell_type": "code",
   "execution_count": null,
   "id": "acc57375",
   "metadata": {},
   "outputs": [],
   "source": [
    "lambdaa = 1\n",
    "for j in range(len(L[3])) :\n",
    "    M = singular(A.ideal(TG0)).lift(L[3][j]).sage()\n",
    "    V = [lambdaa*QQ(element[0]) for element in M]\n",
    "    string = ''\n",
    "\n",
    "    final_sum = 0\n",
    "    for i in range(len(V)) :\n",
    "        if V[i] != 0 :\n",
    "            string += str(V[i]) + ' * ' + TG1[i] + ' + '\n",
    "            final_sum += V[i] * TG0[i]\n",
    "\n",
    "    if final_sum == lambdaa * L[3][j] :\n",
    "        print(f\"{lambdaa} L[3][{j}] = {string[:-2]}\\n\")"
   ]
  },
  {
   "cell_type": "markdown",
   "id": "d00085a9",
   "metadata": {},
   "source": [
    "Hence, the generators of `L[3]` in one copy of $V(5)$ in degree $3$ can be written as :\n",
    "\n",
    "##### $$\\frac{\\partial^5}{\\partial x^5 \\partial y^0} \\left( \\beta_{2,2}\\gamma_{1,2} - \\beta_{2,3}\\gamma_{1,1} \\right)$$<br>\n",
    "##### $$\\frac{\\partial^5}{\\partial x^4 \\partial y^1} \\left( \\beta_{2,2}\\gamma_{1,2} - \\beta_{2,3}\\gamma_{1,1} \\right)$$<br>\n",
    "##### $$\\frac{\\partial^5}{\\partial x^3 \\partial y^2} \\left( \\beta_{2,2}\\gamma_{1,2} - \\beta_{2,3}\\gamma_{1,1} \\right)$$<br>\n",
    "##### $$\\frac{\\partial^5}{\\partial x^2 \\partial y^3} \\left( \\beta_{2,2}\\gamma_{1,2} - \\beta_{2,3}\\gamma_{1,1} \\right)$$<br>\n",
    "##### $$\\frac{\\partial^5}{\\partial x^1 \\partial y^4} \\left( \\beta_{2,2}\\gamma_{1,2} - \\beta_{2,3}\\gamma_{1,1} \\right)$$<br>\n",
    "##### $$\\frac{\\partial^5}{\\partial x^0 \\partial y^5} \\left( \\beta_{2,2}\\gamma_{1,2} - \\beta_{2,3}\\gamma_{1,1} \\right)$$<br>\n"
   ]
  },
  {
   "cell_type": "code",
   "execution_count": null,
   "id": "c6e6277d",
   "metadata": {},
   "outputs": [],
   "source": [
    "for element in L[2] : \n",
    "    print(element in ideale)"
   ]
  },
  {
   "cell_type": "code",
   "execution_count": null,
   "id": "4c976b82",
   "metadata": {},
   "outputs": [],
   "source": [
    "lambdaa = 1\n",
    "for j in range(len(L[2])) :\n",
    "    M = singular(A.ideal(TG0)).lift(L[2][j]).sage()\n",
    "    V = [lambdaa*QQ(element[0]) for element in M]\n",
    "    string = ''\n",
    "\n",
    "    final_sum = 0\n",
    "    for i in range(len(V)) :\n",
    "        if V[i] != 0 :\n",
    "            string += str(V[i]) + ' * ' + TG1[i] + ' + '\n",
    "            final_sum += V[i] * TG0[i]\n",
    "\n",
    "    if final_sum == lambdaa * L[2][j] :\n",
    "        print(f\"{lambdaa} L[2][{j}] = {string[:-2]}\\n\")"
   ]
  },
  {
   "cell_type": "code",
   "execution_count": null,
   "id": "4cad5d02",
   "metadata": {},
   "outputs": [],
   "source": [
    "l = [-120, -24, -6, -2, -1, -1]\n",
    "for index, coef in enumerate(l) :\n",
    "    L[2][index] = coef * L[2][index]  \n",
    "T0_w = []\n",
    "for element in L :\n",
    "    T0_w.extend(element)\n",
    "print(len(T0_w))\n",
    "A.ideal(T0_w) == ideal(I_limit)"
   ]
  },
  {
   "cell_type": "code",
   "execution_count": null,
   "id": "765f39ca",
   "metadata": {},
   "outputs": [],
   "source": [
    "lambdaa = 1\n",
    "for j in range(len(L[2])) :\n",
    "    M = singular(A.ideal(TG0)).lift(L[2][j]).sage()\n",
    "    V = [lambdaa*QQ(element[0]) for element in M]\n",
    "    string = ''\n",
    "\n",
    "    final_sum = 0\n",
    "    for i in range(len(V)) :\n",
    "        if V[i] != 0 :\n",
    "            string += str(V[i]) + ' * ' + TG1[i] + ' + '\n",
    "            final_sum += V[i] * TG0[i]\n",
    "\n",
    "    if final_sum == lambdaa * L[2][j] :\n",
    "        print(f\"{lambdaa} L[2][{j}] = {string[:-2]}\\n\")"
   ]
  },
  {
   "cell_type": "markdown",
   "id": "a8040015",
   "metadata": {},
   "source": [
    "Hence, the generators of `L[2]` in the second copy of $V(5)$ in degree $3$ can be written as :\n",
    "\n",
    "##### $$\\frac{\\partial^5}{\\partial x^5 \\partial y^0} \\left( \\beta_{2,1}\\gamma_{1,2} - \\beta_{2,2}\\gamma_{1,1} \\right)$$<br>\n",
    "##### $$\\frac{\\partial^5}{\\partial x^4 \\partial y^1} \\left( \\beta_{2,1}\\gamma_{1,2} - \\beta_{2,2}\\gamma_{1,1} \\right)$$<br>\n",
    "##### $$\\frac{\\partial^5}{\\partial x^3 \\partial y^2} \\left( \\beta_{2,1}\\gamma_{1,2} - \\beta_{2,2}\\gamma_{1,1} \\right)$$<br>\n",
    "##### $$\\frac{\\partial^5}{\\partial x^2 \\partial y^3} \\left( \\beta_{2,1}\\gamma_{1,2} - \\beta_{2,2}\\gamma_{1,1} \\right)$$<br>\n",
    "##### $$\\frac{\\partial^5}{\\partial x^1 \\partial y^4} \\left( \\beta_{2,1}\\gamma_{1,2} - \\beta_{2,2}\\gamma_{1,1} \\right)$$<br>\n",
    "##### $$\\frac{\\partial^5}{\\partial x^0 \\partial y^5} \\left( \\beta_{2,1}\\gamma_{1,2} - \\beta_{2,2}\\gamma_{1,1} \\right)$$<br>\n"
   ]
  },
  {
   "cell_type": "markdown",
   "id": "1a3bf77f",
   "metadata": {},
   "source": [
    "### Summary :\n",
    "#### $$I_{limit} = \\,\\, V(0)^{\\oplus(3)} \\,\\,\\oplus\\,\\, V(3)^{\\oplus(2)}\\,\\, \\oplus\\,\\,V(5)^{\\oplus(2)}$$\n",
    "<br><br><br>\n",
    "\n",
    "##### $$j_2 : \\color{red}{V(0) \\text{ in degree 2}}$$\n",
    "##### $$\\gamma_{3,2} : \\color{red}{V(3) \\text{ in degree 3}}$$\n",
    "##### $$\\gamma_{3,3} : \\color{red}{V(3) \\text{ in degree 3}}$$\n",
    "\n",
    "##### $$\\beta_{2,2}\\gamma_{1,2} - \\beta_{2,3}\\gamma_{1,1} : \\color{red}{V(5) \\text{ in degree 3}}$$\n",
    "##### $$\\beta_{2,1}\\gamma_{1,2} - \\beta_{2,2}\\gamma_{1,1} : \\color{red}{V(5) \\text{ in degree 3}}$$\n",
    "\n",
    "##### $$j_{41} : \\color{red}{V(0) \\text{ in degree 4}}$$\n",
    "##### $$j_{42} : \\color{red}{V(0) \\text{ in degree 4}}$$"
   ]
  },
  {
   "cell_type": "markdown",
   "id": "032d307f",
   "metadata": {},
   "source": [
    "# Checking subspaces"
   ]
  },
  {
   "cell_type": "code",
   "execution_count": 46,
   "id": "cddde1f5",
   "metadata": {},
   "outputs": [],
   "source": [
    "from Utilities import *"
   ]
  },
  {
   "cell_type": "markdown",
   "id": "95fa37c7",
   "metadata": {},
   "source": [
    "### Copies of V(4)"
   ]
  },
  {
   "cell_type": "markdown",
   "id": "f259b2cc",
   "metadata": {},
   "source": [
    "##### In degree 3"
   ]
  },
  {
   "cell_type": "code",
   "execution_count": null,
   "id": "4c5439c9",
   "metadata": {},
   "outputs": [],
   "source": [
    "c_math = [alpha3_1, alpha3_2]\n",
    "for covariant in c_math :\n",
    "    print(member(covariant, I_limit))"
   ]
  },
  {
   "cell_type": "code",
   "execution_count": null,
   "id": "ae8275f8",
   "metadata": {},
   "outputs": [],
   "source": [
    "c_greek = [str(i) for i in range(len(c_math))]\n",
    "L = choices(c_math, 3, c_greek, len(c_math))[1]\n",
    "print(f'{len(L)}\\n')\n",
    "for element in L :\n",
    "    print(f'{element}\\n')"
   ]
  },
  {
   "cell_type": "code",
   "execution_count": null,
   "id": "862f0ad3",
   "metadata": {},
   "outputs": [],
   "source": [
    "display_belong(I_limit)"
   ]
  }
 ],
 "metadata": {
  "kernelspec": {
   "display_name": "SageMath 10.2",
   "language": "sage",
   "name": "sagemath-10.2"
  },
  "language_info": {
   "codemirror_mode": {
    "name": "ipython",
    "version": 3
   },
   "file_extension": ".py",
   "mimetype": "text/x-python",
   "name": "python",
   "nbconvert_exporter": "python",
   "pygments_lexer": "ipython3",
   "version": "3.11.1"
  }
 },
 "nbformat": 4,
 "nbformat_minor": 5
}
