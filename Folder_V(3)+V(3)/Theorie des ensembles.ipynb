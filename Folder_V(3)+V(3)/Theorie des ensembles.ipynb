{
 "cells": [
  {
   "cell_type": "markdown",
   "metadata": {},
   "source": [
    "# Théorie des ensembles"
   ]
  },
  {
   "cell_type": "markdown",
   "metadata": {},
   "source": [
    "## Notions"
   ]
  },
  {
   "cell_type": "code",
   "execution_count": 1,
   "metadata": {
    "vscode": {
     "languageId": "python"
    }
   },
   "outputs": [
    {
     "name": "stdout",
     "output_type": "stream",
     "text": [
      "<class 'set'>\n",
      "3\n",
      "{0, 1, 2}\n"
     ]
    }
   ],
   "source": [
    "E = set([0,1,2,])\n",
    "print(type(E))\n",
    "print(len(E))\n",
    "print(E)"
   ]
  },
  {
   "cell_type": "code",
   "execution_count": 2,
   "metadata": {
    "vscode": {
     "languageId": "python"
    }
   },
   "outputs": [
    {
     "data": {
      "text/plain": [
       "(True, False)"
      ]
     },
     "execution_count": 2,
     "metadata": {},
     "output_type": "execute_result"
    }
   ],
   "source": [
    "1 in E, 5 in E"
   ]
  },
  {
   "cell_type": "code",
   "execution_count": 3,
   "metadata": {
    "vscode": {
     "languageId": "python"
    }
   },
   "outputs": [
    {
     "data": {
      "text/plain": [
       "{1}"
      ]
     },
     "execution_count": 3,
     "metadata": {},
     "output_type": "execute_result"
    }
   ],
   "source": [
    "A = set([1])\n",
    "A"
   ]
  },
  {
   "cell_type": "code",
   "execution_count": 4,
   "metadata": {
    "vscode": {
     "languageId": "python"
    }
   },
   "outputs": [
    {
     "data": {
      "text/plain": [
       "(False, True)"
      ]
     },
     "execution_count": 4,
     "metadata": {},
     "output_type": "execute_result"
    }
   ],
   "source": [
    "A in E, 1 in E"
   ]
  },
  {
   "cell_type": "code",
   "execution_count": 5,
   "metadata": {
    "vscode": {
     "languageId": "python"
    }
   },
   "outputs": [
    {
     "data": {
      "text/plain": [
       "True"
      ]
     },
     "execution_count": 5,
     "metadata": {},
     "output_type": "execute_result"
    }
   ],
   "source": [
    "A.issubset(E)"
   ]
  },
  {
   "cell_type": "code",
   "execution_count": 6,
   "metadata": {
    "vscode": {
     "languageId": "python"
    }
   },
   "outputs": [],
   "source": [
    "def ind(A, x) : \n",
    "    if x in A :\n",
    "        return(1)\n",
    "    else :\n",
    "        return(0)"
   ]
  },
  {
   "cell_type": "code",
   "execution_count": 7,
   "metadata": {
    "vscode": {
     "languageId": "python"
    }
   },
   "outputs": [
    {
     "name": "stdout",
     "output_type": "stream",
     "text": [
      "1\n",
      "1\n",
      "1\n"
     ]
    }
   ],
   "source": [
    "for x in E :\n",
    "    print(ind(A, x) + ind(E.difference(A), x)) # A^c = E.difference(A)"
   ]
  },
  {
   "cell_type": "code",
   "execution_count": 8,
   "metadata": {
    "vscode": {
     "languageId": "python"
    }
   },
   "outputs": [
    {
     "name": "stdout",
     "output_type": "stream",
     "text": [
      "True\n",
      "True\n",
      "True\n"
     ]
    }
   ],
   "source": [
    "B = set([0,2])\n",
    "for x in E :\n",
    "    print(ind(A, x) * ind(B, x) == ind(A.intersection(B), x)) # A^c = E.difference(A)"
   ]
  },
  {
   "cell_type": "markdown",
   "metadata": {},
   "source": [
    "## Exercices"
   ]
  },
  {
   "cell_type": "code",
   "execution_count": 10,
   "metadata": {
    "vscode": {
     "languageId": "python"
    }
   },
   "outputs": [
    {
     "data": {
      "text/plain": [
       "[{0}, {1}]"
      ]
     },
     "execution_count": 10,
     "metadata": {},
     "output_type": "execute_result"
    }
   ],
   "source": [
    "p({0,1}, 1)"
   ]
  },
  {
   "cell_type": "code",
   "execution_count": 6,
   "metadata": {
    "vscode": {
     "languageId": "python"
    }
   },
   "outputs": [],
   "source": [
    "def p(E, k) :\n",
    "    if k == 0 :\n",
    "        return([set([])])\n",
    "    elif k == 1 :\n",
    "        return([set([x]) for x in E])\n",
    "    else :\n",
    "        retro = p(E, k - 1)\n",
    "        final = []\n",
    "        for x in E :\n",
    "            for subset in retro : \n",
    "                if not(x in subset) :\n",
    "                    subset = subset.union(set([x]))\n",
    "                    if not(subset in final) :\n",
    "                        final.append(subset)\n",
    "    return(final)\n"
   ]
  },
  {
   "cell_type": "code",
   "execution_count": 10,
   "metadata": {
    "vscode": {
     "languageId": "python"
    }
   },
   "outputs": [],
   "source": [
    "def P(E) :\n",
    "    final = []\n",
    "    final.append(set({}))\n",
    "    for k in range(1, len(E) + 1) :\n",
    "        final.extend(p(E, k))\n",
    "    return(final)"
   ]
  },
  {
   "cell_type": "markdown",
   "metadata": {},
   "source": [
    "# Relations d'ordre"
   ]
  },
  {
   "cell_type": "markdown",
   "metadata": {},
   "source": [
    "## Notions"
   ]
  },
  {
   "cell_type": "code",
   "execution_count": 11,
   "metadata": {
    "vscode": {
     "languageId": "python"
    }
   },
   "outputs": [],
   "source": [
    "def cart_prod(A, B) :\n",
    "    final = []\n",
    "    for a in A : \n",
    "        for b in B :\n",
    "            final.append((a, b))\n",
    "    return(set(final))\n"
   ]
  },
  {
   "cell_type": "code",
   "execution_count": 12,
   "metadata": {
    "vscode": {
     "languageId": "python"
    }
   },
   "outputs": [],
   "source": [
    "import random\n",
    "def relation(E, k) :\n",
    "    R = []\n",
    "    total = list(cart_prod(E, E))\n",
    "    for i in range(k) :\n",
    "        j = random.randint(0, len(total) - 1)\n",
    "        R.append(total[j])\n",
    "        total.remove(total[j])\n",
    "    return(set(R))"
   ]
  },
  {
   "cell_type": "code",
   "execution_count": 90,
   "metadata": {
    "vscode": {
     "languageId": "python"
    }
   },
   "outputs": [],
   "source": [
    "from sage.graphs.digraph import DiGraph\n",
    "\n",
    "#E = {'nana', 'manu', 'bibi', 'energy', 'saviour'}\n",
    "#E = set([1..6])\n",
    "#R = relation(E, 9)\n",
    "\n",
    "G = DiGraph(loops=True)\n",
    "G.add_vertices(E)\n",
    "G.add_edges(R)\n",
    "\n",
    "image = G.plot(vertex_size=900, vertex_color='lightblue', edge_style='solid', layout='circular')\n",
    "image.show()"
   ]
  },
  {
   "cell_type": "code",
   "execution_count": 13,
   "metadata": {
    "vscode": {
     "languageId": "python"
    }
   },
   "outputs": [],
   "source": [
    "n = 11\n",
    "E = set([i for i in range(1, n)]) #E = set([i for i in range(-n + 1, 0)]).union(E)\n",
    "R = set([(a, b) for a, b in cart_prod(E, E) if b % a == 0]) \n",
    "#print(R)\n",
    "#reflexive(E, R), antisym(E, R), transitive(E, R), relation_ordre(E, R), maximal(E, R, E), maximum(E, R, E)\n",
    "#len(R), len(E)^2\n",
    "#R"
   ]
  },
  {
   "cell_type": "code",
   "execution_count": 14,
   "metadata": {
    "vscode": {
     "languageId": "python"
    }
   },
   "outputs": [],
   "source": [
    "n = 1\n",
    "E = P(set([0..n]))\n",
    "R = []\n",
    "for A in E :\n",
    "    for B in E :\n",
    "        if A.issubset(B) :\n",
    "            R.append((A, B))\n",
    "#len(R), len(E)^2\n",
    "#print(R) \n",
    "#reflexive(E, R), antisym(E, R), transitive(E, R), relation_ordre(E, R), maximal(E, R, E), maximum(E, R, E)\n"
   ]
  },
  {
   "cell_type": "code",
   "execution_count": 15,
   "metadata": {
    "vscode": {
     "languageId": "python"
    }
   },
   "outputs": [],
   "source": [
    "def reflexive(E, R) :\n",
    "    if R.issubset(cart_prod(E, E)) == False :\n",
    "        return(\"Erreur : La relation n'est pas un sous ensemble du produit cartésien!\")\n",
    "    veracity = True\n",
    "    for x in E :\n",
    "        veracity = veracity and ((x, x) in R)\n",
    "        if veracity == False :\n",
    "            return(veracity)\n",
    "    return(veracity)\n",
    "\n",
    "def antisym(E, R) :\n",
    "    if R.issubset(cart_prod(E, E)) == False :\n",
    "        return(\"Erreur : La relation n'est pas un sous ensemble du produit cartésien!\")\n",
    "    veracity = True\n",
    "    for x, y in R :\n",
    "        if (y, x) in R :\n",
    "            veracity = veracity and (x == y)\n",
    "            if veracity == False :\n",
    "                return(veracity)\n",
    "    return(veracity)\n",
    "\n",
    "def transitive(E, R) :\n",
    "    if R.issubset(cart_prod(E, E)) == False :\n",
    "        return(\"Erreur : La relation n'est pas un sous ensemble du produit cartésien!\")\n",
    "    veracity = True\n",
    "    for x, y in R :\n",
    "        for z in  set([element[1] for element in R]) :\n",
    "            if (y, z) in R :\n",
    "                veracity = veracity and ((x, z) in R)\n",
    "                if veracity == False :\n",
    "                    return(veracity)\n",
    "    return(veracity)\n",
    "\n",
    "def relation_ordre(E, R) :\n",
    "    if R.issubset(cart_prod(E, E)) == False :\n",
    "        return(\"Erreur : La relation n'est pas un sous ensemble du produit cartésien!\")\n",
    "    return(reflexive(E, R) and antisym(E, R) and transitive(E, R))"
   ]
  },
  {
   "cell_type": "code",
   "execution_count": 16,
   "metadata": {
    "vscode": {
     "languageId": "python"
    }
   },
   "outputs": [],
   "source": [
    "def minimal(E, R, A) :\n",
    "    L = []\n",
    "    for a in A :\n",
    "        veracity = True\n",
    "        for x in A :\n",
    "            if (x, a) in R :\n",
    "                veracity = veracity and (a == x)\n",
    "                if veracity == False :\n",
    "                    break\n",
    "        if veracity == True :\n",
    "            L.append(a)\n",
    "    return(L)\n",
    "\n",
    "def minimum(E, R, A) :\n",
    "    L = []\n",
    "    for a in A :\n",
    "        veracity = True\n",
    "        for x in A :\n",
    "            veracity = veracity and ((a, x) in R)\n",
    "            if veracity == False :\n",
    "                    break\n",
    "        if veracity == True :\n",
    "            return(a)\n",
    "    return(\"Il n'existe pas de minimum\")\n",
    "\n",
    "def minorant(E, R, A) : \n",
    "    L = []\n",
    "    for a in E :\n",
    "        veracity = True\n",
    "        for x in A :\n",
    "            veracity = veracity and ((a, x) in R)\n",
    "            if veracity == False :\n",
    "                break\n",
    "        if veracity == True :\n",
    "            L.append(a)\n",
    "    return(L)"
   ]
  },
  {
   "cell_type": "markdown",
   "metadata": {},
   "source": [
    "## Exercices"
   ]
  },
  {
   "cell_type": "code",
   "execution_count": 17,
   "metadata": {
    "vscode": {
     "languageId": "python"
    }
   },
   "outputs": [],
   "source": [
    "def maximal(E, R, A) :\n",
    "    L = []\n",
    "    for a in A :\n",
    "        veracity = True\n",
    "        for x in A :\n",
    "            if (a, x) in R :\n",
    "                veracity = veracity and (a == x)\n",
    "                if veracity == False :\n",
    "                    break\n",
    "        if veracity == True :\n",
    "            L.append(a)\n",
    "    return(L)\n",
    "\n",
    "def maximum(E, R, A) :\n",
    "    L = []\n",
    "    for a in A :\n",
    "        veracity = True\n",
    "        for x in A :\n",
    "            veracity = veracity and ((x, a) in R)\n",
    "            if veracity == False :\n",
    "                    break\n",
    "        if veracity == True :\n",
    "            return(a)\n",
    "    return(\"Il n'existe pas de maximum\")\n",
    "\n",
    "def majorant(E, R, A) : \n",
    "    L = []\n",
    "    for a in E :\n",
    "        veracity = True\n",
    "        for x in A :\n",
    "            veracity = veracity and ((x, a) in R)\n",
    "            if veracity == False :\n",
    "                break\n",
    "        if veracity == True :\n",
    "            L.append(a)\n",
    "    return(L)"
   ]
  },
  {
   "cell_type": "markdown",
   "metadata": {},
   "source": [
    "# Relations d'équivalence"
   ]
  },
  {
   "cell_type": "markdown",
   "metadata": {},
   "source": [
    "# Notions"
   ]
  },
  {
   "cell_type": "code",
   "execution_count": null,
   "metadata": {
    "vscode": {
     "languageId": "python"
    }
   },
   "outputs": [],
   "source": []
  },
  {
   "cell_type": "markdown",
   "metadata": {},
   "source": [
    "# Exercices"
   ]
  },
  {
   "cell_type": "code",
   "execution_count": null,
   "metadata": {
    "vscode": {
     "languageId": "python"
    }
   },
   "outputs": [],
   "source": []
  }
 ],
 "metadata": {
  "kernelspec": {
   "display_name": "SageMath 10.2",
   "language": "sage",
   "name": "SageMath-10.2"
  },
  "language_info": {
   "codemirror_mode": {
    "name": "ipython",
    "version": 3
   },
   "file_extension": ".py",
   "mimetype": "text/x-python",
   "name": "sage",
   "nbconvert_exporter": "python",
   "pygments_lexer": "ipython3",
   "version": "3.11.1"
  }
 },
 "nbformat": 4,
 "nbformat_minor": 2
}
