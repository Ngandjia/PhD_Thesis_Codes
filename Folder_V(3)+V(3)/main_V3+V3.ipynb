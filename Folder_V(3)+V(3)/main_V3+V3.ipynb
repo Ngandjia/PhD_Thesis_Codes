{
 "cells": [
  {
   "cell_type": "markdown",
   "id": "54cf5eb2",
   "metadata": {},
   "source": [
    "### Decomposition of symmetric powers of $V(3) \\oplus V(3)$"
   ]
  },
  {
   "cell_type": "code",
   "execution_count": 2,
   "id": "6d50db8e",
   "metadata": {},
   "outputs": [
    {
     "name": "stdout",
     "output_type": "stream",
     "text": [
      "\n",
      "degree 0 : V(0)\n",
      "\n",
      "degree 1 : 2*V(3)\n",
      "\n",
      "degree 2 : 1*V(0) + 3*V(2) + 1*V(4) + 3*V(6)\n",
      "\n",
      "degree 3 : 2*V(1) + 6*V(3) + 6*V(5) + 2*V(7) + 4*V(9)\n",
      "\n",
      "degree 4 : 6*V(0) + 6*V(2) + 10*V(4) + 11*V(6) + 9*V(8) + 3*V(10) + 5*V(12)\n",
      "\n",
      "degree 5 : 6*V(1) + 18*V(3) + 18*V(5) + 18*V(7) + 16*V(9) + 12*V(11) + 4*V(13) + 6*V(15)\n",
      "\n",
      "degree 6 : 7*V(0) + 21*V(2) + 23*V(4) + 37*V(6) + 30*V(8) + 26*V(10) + 21*V(12) + 15*V(14) + 5*V(16) + 7*V(18)\n",
      "\n",
      "degree 7 : 16*V(1) + 38*V(3) + 48*V(5) + 48*V(7) + 56*V(9) + 42*V(11) + 34*V(13) + 26*V(15) + 18*V(17) + 6*V(19) + 8*V(21)\n"
     ]
    }
   ],
   "source": [
    "from Decomposition import *\n",
    "\n",
    "D = DecomposeSymmetric()\n",
    "\n",
    "for n in range(8) : \n",
    "    print('')\n",
    "    print(f'degree {n} : {D.decompose_binaries(3, 3, n)}')"
   ]
  },
  {
   "cell_type": "markdown",
   "id": "50edcd87",
   "metadata": {},
   "source": [
    "### We import the rings as well as relevant covariants to our study."
   ]
  },
  {
   "cell_type": "code",
   "execution_count": 3,
   "id": "fab79f74-afb6-48d9-8b7f-67f6f08ab70c",
   "metadata": {},
   "outputs": [
    {
     "data": {
      "text/plain": [
       "(Multivariate Polynomial Ring in a_1, a_2, a_3, a_4, b_1, b_2, b_3, b_4, x, y over Rational Field,\n",
       " Multivariate Polynomial Ring in a_1, a_2, a_3, a_4, b_1, b_2, b_3, b_4 over Rational Field,\n",
       " a_4*b_1 - 3*a_3*b_2 + 3*a_2*b_3 - a_1*b_4)"
      ]
     },
     "execution_count": 3,
     "metadata": {},
     "output_type": "execute_result"
    }
   ],
   "source": [
    "from Covariants import *\n",
    "\n",
    "R, A, j2"
   ]
  },
  {
   "cell_type": "markdown",
   "id": "6a0f759a",
   "metadata": {},
   "source": [
    "### We implement the Gröbner deformation of the ideal of a generic fiber.\n",
    "\n",
    " Note :  We use the degree reverse lexicographic order to make our computations faster."
   ]
  },
  {
   "cell_type": "code",
   "execution_count": 4,
   "id": "952da61a-bdb3-4181-82a7-9d864b7d8bee",
   "metadata": {},
   "outputs": [
    {
     "data": {
      "text/plain": [
       "3"
      ]
     },
     "execution_count": 4,
     "metadata": {},
     "output_type": "execute_result"
    }
   ],
   "source": [
    "import GroebnerDeformation as GrD\n",
    "from sage.all import ideal\n",
    "\n",
    "u1 = 3\n",
    "u2, u3, u4, u5, u6, u7 = 0, 0, 2*u1^2/9, 0, 0, -u1^3/27\n",
    "\n",
    "I = ideal(j2 - u1, j41 - u2, j42 - u3, j43 - u4, j44 - u5, j45 - u6, j6 - u7)\n",
    "G = I.groebner_basis()\n",
    "\n",
    "G_tilda = [GrD.f_tilda(element) for element in G]\n",
    "G_limit = [GrD.f_limit(element) for element in G]\n",
    "\n",
    "I_tilda = ideal(G_tilda)\n",
    "I_limit = A.ideal(G_limit)\n",
    "\n",
    "I_limit.dimension()"
   ]
  },
  {
   "cell_type": "markdown",
   "id": "f0d1c0e6",
   "metadata": {},
   "source": [
    "### Degrees of elements of the Gröbner basis of $I_{limit}$ with their occurence."
   ]
  },
  {
   "cell_type": "code",
   "execution_count": 5,
   "id": "76cf0162",
   "metadata": {},
   "outputs": [],
   "source": [
    "from BasisManagement import *\n",
    "\n",
    "Basement = BasisHandler(I_limit)"
   ]
  },
  {
   "cell_type": "code",
   "execution_count": 6,
   "id": "858e7d4d",
   "metadata": {},
   "outputs": [
    {
     "data": {
      "text/plain": [
       "{'Deg 5': 10, 'Deg 4': 17, 'Deg 3': 20, 'Deg 2': 1}"
      ]
     },
     "execution_count": 6,
     "metadata": {},
     "output_type": "execute_result"
    }
   ],
   "source": [
    "G = I_limit.groebner_basis()\n",
    "Basement.count_degrees(G)"
   ]
  },
  {
   "cell_type": "code",
   "execution_count": 7,
   "id": "4424fd7a",
   "metadata": {},
   "outputs": [
    {
     "name": "stdout",
     "output_type": "stream",
     "text": [
      "Gröbner basis length before optimization : 48\n",
      "\n",
      "Number of elements in minimized Gröbner basis : 23\n",
      "The minimized Gröbner basis generates the ideal : True\n",
      "\n",
      "Done in 0.34 seconds\n",
      "\n"
     ]
    }
   ],
   "source": [
    "print(f'Gröbner basis length before optimization : {len(G)}\\n')\n",
    "G = Basement.optimize_basis(G)"
   ]
  },
  {
   "cell_type": "code",
   "execution_count": 8,
   "id": "05934a88",
   "metadata": {},
   "outputs": [
    {
     "data": {
      "text/plain": [
       "{'Deg 4': 2, 'Deg 3': 20, 'Deg 2': 1}"
      ]
     },
     "execution_count": 8,
     "metadata": {},
     "output_type": "execute_result"
    }
   ],
   "source": [
    "Basement.count_degrees(G)"
   ]
  },
  {
   "cell_type": "markdown",
   "id": "79c64e2f",
   "metadata": {},
   "source": [
    "### Stability of $I_{limit}$ under the action of $\\mathfrak{sl}_2(\\mathbb{C})$"
   ]
  },
  {
   "cell_type": "code",
   "execution_count": 9,
   "id": "92244a83",
   "metadata": {},
   "outputs": [
    {
     "name": "stdout",
     "output_type": "stream",
     "text": [
      "Action of <function Operator.X at 0x173b847c0> : True\n",
      "Action of <function Operator.Y at 0x173b84e00> : True\n"
     ]
    }
   ],
   "source": [
    "from DifferentialOperators import *\n",
    "\n",
    "Operator.stability(I_limit, G)"
   ]
  },
  {
   "cell_type": "code",
   "execution_count": 10,
   "id": "6330b61d",
   "metadata": {},
   "outputs": [
    {
     "name": "stdout",
     "output_type": "stream",
     "text": [
      "Action of <function ProdActOperator.X_1 at 0x173b85120> : True\n",
      "Action of <function ProdActOperator.X_2 at 0x173b85300> : False\n",
      "Action of <function ProdActOperator.Y_1 at 0x173b851c0> : True\n",
      "Action of <function ProdActOperator.Y_2 at 0x173b853a0> : False\n"
     ]
    }
   ],
   "source": [
    "\n",
    "ProdActOperator.stability(I_limit, G)"
   ]
  },
  {
   "cell_type": "markdown",
   "id": "50eb3fdb",
   "metadata": {},
   "source": [
    "### We compute the decomposition of each generator of $I_{limit}$ in terms of representations."
   ]
  },
  {
   "cell_type": "code",
   "execution_count": 11,
   "id": "4f030b04",
   "metadata": {
    "scrolled": true
   },
   "outputs": [
    {
     "name": "stdout",
     "output_type": "stream",
     "text": [
      "Element 1 :\n",
      "degree = 4; X^1(f) = 0; Z(X^0(f)) = 0 X^0(f)\n",
      "Y^1(f) = 0\n",
      "\n",
      "Element 2 :\n",
      "degree = 4; X^1(f) = 0; Z(X^0(f)) = 0 X^0(f)\n",
      "Y^1(f) = 0\n",
      "\n",
      "Element 3 :\n",
      "degree = 3; X^1(f) = 0; Z(X^0(f)) = 5 X^0(f)\n",
      "Y^6(f) = 0\n",
      "\n",
      "Element 4 :\n",
      "degree = 3; X^2(f) = 0; Z(X^1(f)) = 5 X^1(f)\n",
      "Y^5(f) = 0\n",
      "\n",
      "Element 5 :\n",
      "degree = 3; X^3(f) = 0; Z(X^2(f)) = 5 X^2(f)\n",
      "Y^4(f) = 0\n",
      "\n",
      "Element 6 :\n",
      "degree = 3; X^1(f) = 0; Z(X^0(f)) = 5 X^0(f)\n",
      "Y^6(f) = 0\n",
      "\n",
      "Element 7 :\n",
      "degree = 3; X^2(f) = 0; Z(X^1(f)) = 5 X^1(f)\n",
      "Y^5(f) = 0\n",
      "\n",
      "Element 8 :\n",
      "degree = 3; X^3(f) = 0; Z(X^2(f)) = 5 X^2(f)\n",
      "Y^4(f) = 0\n",
      "\n",
      "Element 9 :\n",
      "degree = 3; X^4(f) = 0; Z(X^3(f)) = 5 X^3(f)\n",
      "Y^3(f) = 0\n",
      "\n",
      "Element 10 :\n",
      "degree = 3; X^4(f) = 0; Z(X^3(f)) = 5 X^3(f)\n",
      "Y^3(f) = 0\n",
      "\n",
      "Element 11 :\n",
      "degree = 3; X^5(f) = 0; Z(X^4(f)) = 5 X^4(f)\n",
      "Y^2(f) = 0\n",
      "\n",
      "Element 12 :\n",
      "degree = 3; X^6(f) = 0; Z(X^5(f)) = 5 X^5(f)\n",
      "Y^1(f) = 0\n",
      "\n",
      "Element 13 :\n",
      "degree = 3; X^2(f) = 0; Z(X^1(f)) = 5 X^1(f)\n",
      "Y^5(f) = 0\n",
      "\n",
      "Element 14 :\n",
      "degree = 3; X^1(f) = 0; Z(X^0(f)) = 3 X^0(f)\n",
      "Y^4(f) = 0\n",
      "\n",
      "Element 15 :\n",
      "degree = 3; X^3(f) = 0; Z(X^2(f)) = 5 X^2(f)\n",
      "Y^4(f) = 0\n",
      "\n",
      "Element 16 :\n",
      "degree = 3; X^4(f) = 0; Z(X^3(f)) = 5 X^3(f)\n",
      "Y^3(f) = 0\n",
      "\n",
      "Element 17 :\n",
      "degree = 3; X^4(f) = 0; Z(X^3(f)) = 3 X^3(f)\n",
      "Y^1(f) = 0\n",
      "\n",
      "Element 18 :\n",
      "degree = 3; X^3(f) = 0; Z(X^2(f)) = 5 X^2(f)\n",
      "Y^4(f) = 0\n",
      "\n",
      "Element 19 :\n",
      "degree = 3; X^4(f) = 0; Z(X^3(f)) = 5 X^3(f)\n",
      "Y^3(f) = 0\n",
      "\n",
      "Element 20 :\n",
      "degree = 3; X^5(f) = 0; Z(X^4(f)) = 5 X^4(f)\n",
      "Y^2(f) = 0\n",
      "\n",
      "Element 21 :\n",
      "degree = 3; X^5(f) = 0; Z(X^4(f)) = 5 X^4(f)\n",
      "Y^2(f) = 0\n",
      "\n",
      "Element 22 :\n",
      "degree = 3; X^6(f) = 0; Z(X^5(f)) = 5 X^5(f)\n",
      "Y^1(f) = 0\n",
      "\n",
      "Element 23 :\n",
      "degree = 2; X^1(f) = 0; Z(X^0(f)) = 0 X^0(f)\n",
      "Y^1(f) = 0\n",
      "\n"
     ]
    }
   ],
   "source": [
    "from WeightVectors import *\n",
    "\n",
    "Weight.nullity(G)"
   ]
  },
  {
   "cell_type": "code",
   "execution_count": 12,
   "id": "c4967776",
   "metadata": {},
   "outputs": [
    {
     "name": "stdout",
     "output_type": "stream",
     "text": [
      "Element 1 :\n",
      "degree = 4; X_1^1(f) = 0; Z_1(X_1^0(f)) = 0 X_1^0(f)\n",
      "Y_1^1(f) = 0\n",
      "\n",
      "Element 2 :\n",
      "degree = 4; X_1^1(f) = 0; Z_1(X_1^0(f)) = 0 X_1^0(f)\n",
      "Y_1^1(f) = 0\n",
      "\n",
      "Element 3 :\n",
      "degree = 3; X_1^1(f) = 0; Z_1(X_1^0(f)) = 5 X_1^0(f)\n",
      "Y_1^6(f) = 0\n",
      "\n",
      "Element 4 :\n",
      "degree = 3; X_1^2(f) = 0; Z_1(X_1^1(f)) = 5 X_1^1(f)\n",
      "Y_1^5(f) = 0\n",
      "\n",
      "Element 5 :\n",
      "degree = 3; X_1^3(f) = 0; Z_1(X_1^2(f)) = 5 X_1^2(f)\n",
      "Y_1^4(f) = 0\n",
      "\n",
      "Element 6 :\n",
      "degree = 3; X_1^1(f) = 0; Z_1(X_1^0(f)) = 5 X_1^0(f)\n",
      "Y_1^6(f) = 0\n",
      "\n",
      "Element 7 :\n",
      "degree = 3; X_1^2(f) = 0; Z_1(X_1^1(f)) = 5 X_1^1(f)\n",
      "Y_1^5(f) = 0\n",
      "\n",
      "Element 8 :\n",
      "degree = 3; X_1^3(f) = 0; Z_1(X_1^2(f)) = 5 X_1^2(f)\n",
      "Y_1^4(f) = 0\n",
      "\n",
      "Element 9 :\n",
      "degree = 3; X_1^4(f) = 0; Z_1(X_1^3(f)) = 5 X_1^3(f)\n",
      "Y_1^3(f) = 0\n",
      "\n",
      "Element 10 :\n",
      "degree = 3; X_1^4(f) = 0; Z_1(X_1^3(f)) = 5 X_1^3(f)\n",
      "Y_1^3(f) = 0\n",
      "\n",
      "Element 11 :\n",
      "degree = 3; X_1^5(f) = 0; Z_1(X_1^4(f)) = 5 X_1^4(f)\n",
      "Y_1^2(f) = 0\n",
      "\n",
      "Element 12 :\n",
      "degree = 3; X_1^6(f) = 0; Z_1(X_1^5(f)) = 5 X_1^5(f)\n",
      "Y_1^1(f) = 0\n",
      "\n",
      "Element 13 :\n",
      "degree = 3; X_1^2(f) = 0; Z_1(X_1^1(f)) = 5 X_1^1(f)\n",
      "Y_1^5(f) = 0\n",
      "\n",
      "Element 14 :\n",
      "degree = 3; X_1^1(f) = 0; Z_1(X_1^0(f)) = 3 X_1^0(f)\n",
      "Y_1^4(f) = 0\n",
      "\n",
      "Element 15 :\n",
      "degree = 3; X_1^3(f) = 0; Z_1(X_1^2(f)) = 5 X_1^2(f)\n",
      "Y_1^4(f) = 0\n",
      "\n",
      "Element 16 :\n",
      "degree = 3; X_1^4(f) = 0; Z_1(X_1^3(f)) = 5 X_1^3(f)\n",
      "Y_1^3(f) = 0\n",
      "\n",
      "Element 17 :\n",
      "degree = 3; X_1^4(f) = 0; Z_1(X_1^3(f)) = 3 X_1^3(f)\n",
      "Y_1^1(f) = 0\n",
      "\n",
      "Element 18 :\n",
      "degree = 3; X_1^3(f) = 0; Z_1(X_1^2(f)) = 5 X_1^2(f)\n",
      "Y_1^4(f) = 0\n",
      "\n",
      "Element 19 :\n",
      "degree = 3; X_1^4(f) = 0; Z_1(X_1^3(f)) = 5 X_1^3(f)\n",
      "Y_1^3(f) = 0\n",
      "\n",
      "Element 20 :\n",
      "degree = 3; X_1^5(f) = 0; Z_1(X_1^4(f)) = 5 X_1^4(f)\n",
      "Y_1^2(f) = 0\n",
      "\n",
      "Element 21 :\n",
      "degree = 3; X_1^5(f) = 0; Z_1(X_1^4(f)) = 5 X_1^4(f)\n",
      "Y_1^2(f) = 0\n",
      "\n",
      "Element 22 :\n",
      "degree = 3; X_1^6(f) = 0; Z_1(X_1^5(f)) = 5 X_1^5(f)\n",
      "Y_1^1(f) = 0\n",
      "\n",
      "Element 23 :\n",
      "degree = 2; X_1^1(f) = 0; Z_1(X_1^0(f)) = 0 X_1^0(f)\n",
      "Y_1^1(f) = 0\n",
      "\n"
     ]
    }
   ],
   "source": [
    "ProdActWeight.nullity1(G)"
   ]
  },
  {
   "cell_type": "code",
   "execution_count": 13,
   "id": "3fa99acc",
   "metadata": {},
   "outputs": [
    {
     "name": "stdout",
     "output_type": "stream",
     "text": [
      "Element 1 :\n",
      "degree = 4; X_2^1(f) = 0; Z_2(X_2^0(f)) = 4 X_2^0(f)\n",
      "Y_2^5(f) = 0\n",
      "\n",
      "Element 2 :\n",
      "degree = 4; X_2^5(f) = 0; Z_2(X_2^4(f)) = 4 X_2^4(f)\n",
      "Y_2^1(f) = 0\n",
      "\n",
      "Element 3 :\n",
      "degree = 3; X_2^2(f) = 0; Z_2(X_2^1(f)) = 3 X_2^1(f)\n",
      "Y_2^3(f) = 0\n",
      "\n",
      "Element 4 :\n",
      "degree = 3; X_2^2(f) = 0; Z_2(X_2^1(f)) = 3 X_2^1(f)\n",
      "Y_2^3(f) = 0\n",
      "\n",
      "Element 5 :\n",
      "degree = 3; X_2^2(f) = 0; Z_2(X_2^1(f)) = 3 X_2^1(f)\n",
      "Y_2^3(f) = 0\n",
      "\n",
      "Element 6 :\n",
      "degree = 3; X_2^3(f) = 0; Z_2(X_2^2(f)) = 3 X_2^2(f)\n",
      "Y_2^2(f) = 0\n",
      "\n",
      "Element 7 :\n",
      "degree = 3; X_2^2(f) = 0; Z_2(X_2^1(f)) = 3 X_2^1(f)\n",
      "Y_2^3(f) = 0\n",
      "\n",
      "Element 8 :\n",
      "degree = 3; X_2^2(f) = 0; Z_2(X_2^1(f)) = 3 X_2^1(f)\n",
      "Y_2^3(f) = 0\n",
      "\n",
      "Element 9 :\n",
      "degree = 3; X_2^2(f) = 0; Z_2(X_2^1(f)) = 3 X_2^1(f)\n",
      "Y_2^3(f) = 0\n",
      "\n",
      "Element 10 :\n",
      "degree = 3; X_2^2(f) = 0; Z_2(X_2^1(f)) = 3 X_2^1(f)\n",
      "Y_2^3(f) = 0\n",
      "\n",
      "Element 11 :\n",
      "degree = 3; X_2^2(f) = 0; Z_2(X_2^1(f)) = 3 X_2^1(f)\n",
      "Y_2^3(f) = 0\n",
      "\n",
      "Element 12 :\n",
      "degree = 3; X_2^2(f) = 0; Z_2(X_2^1(f)) = 3 X_2^1(f)\n",
      "Y_2^3(f) = 0\n",
      "\n",
      "Element 13 :\n",
      "degree = 3; X_2^3(f) = 0; Z_2(X_2^2(f)) = 3 X_2^2(f)\n",
      "Y_2^2(f) = 0\n",
      "\n",
      "Element 14 :\n",
      "degree = 3; X_2^3(f) = 0; Z_2(X_2^2(f)) = 3 X_2^2(f)\n",
      "Y_2^2(f) = 0\n",
      "\n",
      "Element 15 :\n",
      "degree = 3; X_2^3(f) = 0; Z_2(X_2^2(f)) = 3 X_2^2(f)\n",
      "Y_2^2(f) = 0\n",
      "\n",
      "Element 16 :\n",
      "degree = 3; X_2^3(f) = 0; Z_2(X_2^2(f)) = 3 X_2^2(f)\n",
      "Y_2^2(f) = 0\n",
      "\n",
      "Element 17 :\n",
      "degree = 3; X_2^2(f) = 0; Z_2(X_2^1(f)) = 3 X_2^1(f)\n",
      "Y_2^3(f) = 0\n",
      "\n",
      "Element 18 :\n",
      "degree = 3; X_2^3(f) = 0; Z_2(X_2^2(f)) = 3 X_2^2(f)\n",
      "Y_2^2(f) = 0\n",
      "\n",
      "Element 19 :\n",
      "degree = 3; X_2^3(f) = 0; Z_2(X_2^2(f)) = 3 X_2^2(f)\n",
      "Y_2^2(f) = 0\n",
      "\n",
      "Element 20 :\n",
      "degree = 3; X_2^3(f) = 0; Z_2(X_2^2(f)) = 3 X_2^2(f)\n",
      "Y_2^2(f) = 0\n",
      "\n",
      "Element 21 :\n",
      "degree = 3; X_2^3(f) = 0; Z_2(X_2^2(f)) = 3 X_2^2(f)\n",
      "Y_2^2(f) = 0\n",
      "\n",
      "Element 22 :\n",
      "degree = 3; X_2^3(f) = 0; Z_2(X_2^2(f)) = 3 X_2^2(f)\n",
      "Y_2^2(f) = 0\n",
      "\n",
      "Element 23 :\n",
      "degree = 2; X_2^1(f) = 0; Z_2(X_2^0(f)) = 0 X_2^0(f)\n",
      "Y_2^1(f) = 0\n",
      "\n"
     ]
    }
   ],
   "source": [
    "ProdActWeight.nullity2(G)"
   ]
  },
  {
   "cell_type": "code",
   "execution_count": 14,
   "id": "1afa6eff",
   "metadata": {},
   "outputs": [
    {
     "name": "stdout",
     "output_type": "stream",
     "text": [
      "Element 1 : 0\n",
      "Element 2 : 0\n",
      "Element 3 : 5\n",
      "Element 4 : 3\n",
      "Element 5 : 1\n",
      "Element 6 : 5\n",
      "Element 7 : 3\n",
      "Element 8 : 1\n",
      "Element 9 : -1\n",
      "Element 10 : -1\n",
      "Element 11 : -3\n",
      "Element 12 : -5\n",
      "Element 13 : 3\n",
      "Element 14 : 3\n",
      "Element 15 : 1\n",
      "Element 16 : -1\n",
      "Element 17 : -3\n",
      "Element 18 : 1\n",
      "Element 19 : -1\n",
      "Element 20 : -3\n",
      "Element 21 : -3\n",
      "Element 22 : -5\n",
      "Element 23 : 0\n"
     ]
    }
   ],
   "source": [
    "Weight.weights(G)"
   ]
  },
  {
   "cell_type": "code",
   "execution_count": 15,
   "id": "ff481284",
   "metadata": {},
   "outputs": [
    {
     "name": "stdout",
     "output_type": "stream",
     "text": [
      "Element 1 : 0\n",
      "Element 2 : 0\n",
      "Element 3 : 5\n",
      "Element 4 : 3\n",
      "Element 5 : 1\n",
      "Element 6 : 5\n",
      "Element 7 : 3\n",
      "Element 8 : 1\n",
      "Element 9 : -1\n",
      "Element 10 : -1\n",
      "Element 11 : -3\n",
      "Element 12 : -5\n",
      "Element 13 : 3\n",
      "Element 14 : 3\n",
      "Element 15 : 1\n",
      "Element 16 : -1\n",
      "Element 17 : -3\n",
      "Element 18 : 1\n",
      "Element 19 : -1\n",
      "Element 20 : -3\n",
      "Element 21 : -3\n",
      "Element 22 : -5\n",
      "Element 23 : 0\n"
     ]
    }
   ],
   "source": [
    "ProdActWeight.weights1(G)"
   ]
  },
  {
   "cell_type": "code",
   "execution_count": 16,
   "id": "98f6a527",
   "metadata": {},
   "outputs": [
    {
     "name": "stdout",
     "output_type": "stream",
     "text": [
      "Element 1 : 4\n",
      "Element 2 : -4\n",
      "Element 3 : 1\n",
      "Element 4 : 1\n",
      "Element 5 : 1\n",
      "Element 6 : -1\n",
      "Element 7 : 1\n",
      "Element 8 : 1\n",
      "Element 9 : 1\n",
      "Element 10 : 1\n",
      "Element 11 : 1\n",
      "Element 12 : 1\n",
      "Element 13 : -1\n",
      "Element 14 : -1\n",
      "Element 15 : -1\n",
      "Element 16 : -1\n",
      "Element 17 : 1\n",
      "Element 18 : -1\n",
      "Element 19 : -1\n",
      "Element 20 : -1\n",
      "Element 21 : -1\n",
      "Element 22 : -1\n",
      "Element 23 : 0\n"
     ]
    }
   ],
   "source": [
    "ProdActWeight.weights2(G)"
   ]
  },
  {
   "cell_type": "code",
   "execution_count": 17,
   "id": "329533e7",
   "metadata": {},
   "outputs": [
    {
     "name": "stdout",
     "output_type": "stream",
     "text": [
      "\n",
      "Element 1 : 1 generators\n",
      "0 0 0\n",
      "{'V(0)': 'yes'}\n",
      "True\n",
      "\n",
      "\n",
      "Element 2 : 1 generators\n",
      "0 0 0\n",
      "{'V(0)': 'yes'}\n",
      "True\n",
      "\n",
      "\n",
      "Element 3 : 1 generators\n",
      "5 0 5\n",
      "{'V(5)': 'yes'}\n",
      "True\n",
      "\n",
      "\n",
      "Element 4 : 2 generators\n",
      "3 0 5\n",
      "{'V(5)': 'yes', 'V(3)': 'yes'}\n",
      "True\n",
      "\n",
      "\n",
      "Element 5 : 2 generators\n",
      "1 1 5\n",
      "{'V(5)': 'yes', 'V(3)': 'yes'}\n",
      "True\n",
      "\n",
      "\n",
      "Element 6 : 1 generators\n",
      "5 0 5\n",
      "{'V(5)': 'yes'}\n",
      "True\n",
      "\n",
      "\n",
      "Element 7 : 2 generators\n",
      "3 0 5\n",
      "{'V(5)': 'yes', 'V(3)': 'yes'}\n",
      "True\n",
      "\n",
      "\n",
      "Element 8 : 2 generators\n",
      "1 1 5\n",
      "{'V(5)': 'yes', 'V(3)': 'yes'}\n",
      "True\n",
      "\n",
      "\n",
      "Element 9 : 2 generators\n",
      "-1 2 5\n",
      "{'V(5)': 'yes', 'V(3)': 'yes'}\n",
      "True\n",
      "\n",
      "\n",
      "Element 10 : 2 generators\n",
      "-1 2 5\n",
      "{'V(5)': 'yes', 'V(3)': 'yes'}\n",
      "True\n",
      "\n",
      "\n",
      "Element 11 : 2 generators\n",
      "-3 3 5\n",
      "{'V(5)': 'yes', 'V(3)': 'yes'}\n",
      "True\n",
      "\n",
      "\n",
      "Element 12 : 1 generators\n",
      "-5 5 5\n",
      "{'V(5)': 'yes'}\n",
      "True\n",
      "\n",
      "\n",
      "Element 13 : 2 generators\n",
      "3 0 5\n",
      "{'V(5)': 'yes', 'V(3)': 'yes'}\n",
      "True\n",
      "\n",
      "\n",
      "Element 14 : 1 generators\n",
      "3 0 3\n",
      "{'V(3)': 'yes'}\n",
      "True\n",
      "\n",
      "\n",
      "Element 15 : 2 generators\n",
      "1 1 5\n",
      "{'V(5)': 'yes', 'V(3)': 'yes'}\n",
      "True\n",
      "\n",
      "\n",
      "Element 16 : 2 generators\n",
      "-1 2 5\n",
      "{'V(5)': 'yes', 'V(3)': 'yes'}\n",
      "True\n",
      "\n",
      "\n",
      "Element 17 : 1 generators\n",
      "-3 3 3\n",
      "{'V(3)': 'yes'}\n",
      "True\n",
      "\n",
      "\n",
      "Element 18 : 2 generators\n",
      "1 1 5\n",
      "{'V(5)': 'yes', 'V(3)': 'yes'}\n",
      "True\n",
      "\n",
      "\n",
      "Element 19 : 2 generators\n",
      "-1 2 5\n",
      "{'V(5)': 'yes', 'V(3)': 'yes'}\n",
      "True\n",
      "\n",
      "\n",
      "Element 20 : 2 generators\n",
      "-3 3 5\n",
      "{'V(5)': 'yes', 'V(3)': 'yes'}\n",
      "True\n",
      "\n",
      "\n",
      "Element 21 : 2 generators\n",
      "-3 3 5\n",
      "{'V(5)': 'yes', 'V(3)': 'yes'}\n",
      "True\n",
      "\n",
      "\n",
      "Element 22 : 1 generators\n",
      "-5 5 5\n",
      "{'V(5)': 'yes'}\n",
      "True\n",
      "\n",
      "\n",
      "Element 23 : 1 generators\n",
      "0 0 0\n",
      "{'V(0)': 'yes'}\n",
      "True\n",
      "\n",
      "\n",
      "\n",
      "The total number of generators is 37\n",
      "The decomposition is given by :\n",
      "V(0) : 3\n",
      "V(5) : 18\n",
      "V(3) : 16\n"
     ]
    }
   ],
   "source": [
    "T = Weight.weight_decomposition(G)"
   ]
  },
  {
   "cell_type": "markdown",
   "id": "713d9a07",
   "metadata": {},
   "source": [
    "### A minimal set of generators for `I_limit` given by the above weight vectors."
   ]
  },
  {
   "cell_type": "code",
   "execution_count": 18,
   "id": "8b941b74",
   "metadata": {},
   "outputs": [
    {
     "name": "stdout",
     "output_type": "stream",
     "text": [
      "The lenght of T before optimization is : 37\n",
      "\n",
      "Number of elements in minimized generating set : 23\n",
      "The minimized basis generates the ideal : True\n",
      "\n",
      "Done in 0.34 seconds\n",
      "\n"
     ]
    }
   ],
   "source": [
    "print(f'The lenght of T before optimization is : {len(T)}\\n')\n",
    "T0, T = Basement.optimize_basis(G, T)"
   ]
  },
  {
   "cell_type": "code",
   "execution_count": 20,
   "id": "eea79fcd",
   "metadata": {},
   "outputs": [
    {
     "name": "stdout",
     "output_type": "stream",
     "text": [
      "degree 4 in V(0) : 2\n",
      "degree 3 in V(5) : 12\n",
      "degree 3 in V(3) : 8\n",
      "degree 2 in V(0) : 1\n"
     ]
    }
   ],
   "source": [
    "Basement.degree_per_binary(T)"
   ]
  },
  {
   "cell_type": "markdown",
   "id": "6911e230",
   "metadata": {},
   "source": [
    "#### $$I_{limit} \\subset\\,\\, V(0)^{\\oplus(3)} \\,\\,\\oplus\\,\\, V(3)^{\\oplus(8)}\\,\\, \\oplus\\,\\,V(5)^{\\oplus(12)}$$"
   ]
  },
  {
   "cell_type": "code",
   "execution_count": 21,
   "id": "cb54870d",
   "metadata": {
    "scrolled": true
   },
   "outputs": [
    {
     "name": "stdout",
     "output_type": "stream",
     "text": [
      "\n",
      "Element 1 : 0 -- > This is a highest weight vector!\n",
      "\n",
      "Element 2 : 0 -- > This is a highest weight vector!\n",
      "\n",
      "Element 3 : 5 -- > This is a highest weight vector!\n",
      "\n",
      "Element 4 : 5 -- > This is a highest weight vector!\n",
      "\n",
      "Element 5 : 3\n",
      "\n",
      "Element 6 : 3 -- > This is a highest weight vector!\n",
      "\n",
      "Element 7 : 1\n",
      "\n",
      "Element 8 : 1\n",
      "\n",
      "Element 9 : -1\n",
      "\n",
      "Element 10 : -1\n",
      "\n",
      "Element 11 : -3\n",
      "\n",
      "Element 12 : -5\n",
      "\n",
      "Element 13 : 3\n",
      "\n",
      "Element 14 : 3 -- > This is a highest weight vector!\n",
      "\n",
      "Element 15 : -3\n",
      "\n",
      "Element 16 : 1\n",
      "\n",
      "Element 17 : 1\n",
      "\n",
      "Element 18 : -1\n",
      "\n",
      "Element 19 : -1\n",
      "\n",
      "Element 20 : -3\n",
      "\n",
      "Element 21 : -3\n",
      "\n",
      "Element 22 : -5\n",
      "\n",
      "Element 23 : 0 -- > This is a highest weight vector!\n"
     ]
    }
   ],
   "source": [
    "L = Weight.highest_weights(T0)"
   ]
  },
  {
   "cell_type": "code",
   "execution_count": 22,
   "id": "1d0ff2b1",
   "metadata": {},
   "outputs": [
    {
     "name": "stdout",
     "output_type": "stream",
     "text": [
      "1 : degree 4\n",
      "1 : degree 4\n",
      "6 : degree 3\n",
      "6 : degree 3\n",
      "4 : degree 3\n",
      "4 : degree 3\n",
      "1 : degree 2\n"
     ]
    }
   ],
   "source": [
    "for liste in L :\n",
    "    print(f'{len(liste)} : degree {liste[0].degree()}')"
   ]
  },
  {
   "cell_type": "code",
   "execution_count": 23,
   "id": "45fe5697",
   "metadata": {},
   "outputs": [
    {
     "name": "stdout",
     "output_type": "stream",
     "text": [
      "23\n"
     ]
    },
    {
     "data": {
      "text/plain": [
       "True"
      ]
     },
     "execution_count": 23,
     "metadata": {},
     "output_type": "execute_result"
    }
   ],
   "source": [
    "T0_w = []\n",
    "for liste in L :\n",
    "    T0_w.extend(liste)\n",
    "print(len(T0_w))\n",
    "ideal(T0_w) == ideal(I_limit)"
   ]
  },
  {
   "cell_type": "markdown",
   "id": "f36751b3",
   "metadata": {},
   "source": [
    "##### Therefore :\n",
    "\n",
    "`T0_w` is a list of generators of `I_limit`.<br><br>\n",
    "\n",
    "\n",
    "* The first element of  `T0_w` is of  `degree 4`  in one copy of  `V(0)` . <br><br>\n",
    "\n",
    "* The next element of  `T0_w` is of  `degree 4`  in one copy of  `V(0)` . <br><br>\n",
    "\n",
    "* The next 6 elements of  `T0_w`  are of  `degree 3`  and all in one copy of  `V(5)` . <br><br>\n",
    "\n",
    "* The next 6 elements of  `T0_w`  are of  `degree 3`  and all in one copy of  `V(5)` . <br><br>\n",
    "\n",
    "* The next 4 elements of  `T0_w`  are of  `degree 3`  and all in one copy of  `V(3)` . <br><br>\n",
    "\n",
    "* The next 4 elements of  `T0_w`  are again of  `degree 3`  and all in one copy of  `V(3)` . <br><br>\n",
    "\n",
    "* The last element of  `T0_w` is of  `degree 2`  in one copy of  `V(0)` .<br><br><br><br>"
   ]
  },
  {
   "cell_type": "code",
   "execution_count": 24,
   "id": "74cbd0c7",
   "metadata": {},
   "outputs": [
    {
     "name": "stdout",
     "output_type": "stream",
     "text": [
      "Number of elements in minimized Gröbner basis : 23\n",
      "The minimized Gröbner basis generates the ideal : True\n",
      "\n",
      "Done in 0.16 seconds\n",
      "\n"
     ]
    }
   ],
   "source": [
    "Display = Basement.optimize_basis(T0_w)"
   ]
  },
  {
   "cell_type": "markdown",
   "id": "00e9cb90",
   "metadata": {},
   "source": [
    "### The 2 copies of $V(0)$ in degree $4$. "
   ]
  },
  {
   "cell_type": "code",
   "execution_count": 25,
   "id": "532ddfeb",
   "metadata": {},
   "outputs": [
    {
     "name": "stdout",
     "output_type": "stream",
     "text": [
      "True\n"
     ]
    }
   ],
   "source": [
    "print(T0_w[0] == L[0][0] == j41/3)"
   ]
  },
  {
   "cell_type": "code",
   "execution_count": 26,
   "id": "36f380f7",
   "metadata": {},
   "outputs": [],
   "source": [
    "T0_w[0], L[0][0] = j41, j41"
   ]
  },
  {
   "cell_type": "markdown",
   "id": "840b4856",
   "metadata": {},
   "source": [
    "$j_{41}$ is the covariant generating one of the copies of $V(0)$ in degree $4$. "
   ]
  },
  {
   "cell_type": "code",
   "execution_count": 27,
   "id": "1d61cf33",
   "metadata": {},
   "outputs": [
    {
     "name": "stdout",
     "output_type": "stream",
     "text": [
      "True\n"
     ]
    }
   ],
   "source": [
    "print(T0_w[1] == L[1][0] == j42/3)"
   ]
  },
  {
   "cell_type": "code",
   "execution_count": 28,
   "id": "cd8d2779",
   "metadata": {},
   "outputs": [],
   "source": [
    "T0_w[1], L[1][0] = j42, j42"
   ]
  },
  {
   "cell_type": "markdown",
   "id": "fc30a594",
   "metadata": {},
   "source": [
    "$j_{42}$ is the covariant generating the second copy of $V(0)$ in degree $4$. "
   ]
  },
  {
   "cell_type": "markdown",
   "id": "a33967bd",
   "metadata": {},
   "source": [
    "### The copy of $V(0)$ in degree $2$."
   ]
  },
  {
   "cell_type": "code",
   "execution_count": 29,
   "id": "8e151819",
   "metadata": {},
   "outputs": [
    {
     "data": {
      "text/plain": [
       "True"
      ]
     },
     "execution_count": 29,
     "metadata": {},
     "output_type": "execute_result"
    }
   ],
   "source": [
    "T0_w[-1] == L[-1][0] == j2"
   ]
  },
  {
   "cell_type": "markdown",
   "id": "49069be2-cccd-46e1-93a5-65817608d56d",
   "metadata": {},
   "source": [
    "$j_{2}$ is the covariant generating the only copy of $V(0)$ in degree $2$. "
   ]
  },
  {
   "cell_type": "markdown",
   "id": "754cad98-c546-47a2-83ec-b0918f36f341",
   "metadata": {},
   "source": [
    "### The 2 copies of $V(3)$ in degree $3$.   \n",
    "We recall that a basis of the space of covariants of degree $3$ and order $3$ is given by $j_2\\gamma_{1,1}, \\,j_2\\gamma_{1,2}, \\,\\gamma_{3,1}, \\,\\gamma_{3,2}, \\,\\gamma_{3,3}$ and $\\gamma_{3,4}$."
   ]
  },
  {
   "cell_type": "code",
   "execution_count": 30,
   "id": "5d17f046",
   "metadata": {},
   "outputs": [
    {
     "data": {
      "text/plain": [
       "24"
      ]
     },
     "execution_count": 30,
     "metadata": {},
     "output_type": "execute_result"
    }
   ],
   "source": [
    "L_math = [j2*gamma1_1, j2*gamma1_2, gamma3_1, gamma3_2, gamma3_3, gamma3_4]\n",
    "L_greek = ['j2*gamma1_1', 'j2*gamma1_2', 'gamma3_1', 'gamma3_2', 'gamma3_3', 'gamma3_4']\n",
    "TG = []\n",
    "\n",
    "for name, covariant in zip(L_greek, L_math) :\n",
    "    for i in range(4) :\n",
    "        TG.append([diff(diff(covariant, x, i), y, 3-i), name + '--' + str(i)])\n",
    "\n",
    "TG0 = [element[0] for element in TG]\n",
    "TG1 = [element[1] for element in TG]\n",
    "len(TG1)"
   ]
  },
  {
   "cell_type": "code",
   "execution_count": 31,
   "id": "eeb6a28e",
   "metadata": {},
   "outputs": [
    {
     "name": "stdout",
     "output_type": "stream",
     "text": [
      "Element = 1 and degree = 4\n",
      "Element = 2 and degree = 4\n",
      "Element = 15 and degree = 3\n",
      "Element = 16 and degree = 3\n",
      "Element = 17 and degree = 3\n",
      "Element = 18 and degree = 3\n",
      "Element = 19 and degree = 3\n",
      "Element = 20 and degree = 3\n",
      "Element = 21 and degree = 3\n",
      "Element = 22 and degree = 3\n"
     ]
    }
   ],
   "source": [
    "ideale = ideal(TG0)\n",
    "        \n",
    "for index, f in enumerate(T0_w) :\n",
    "    if f in ideale : \n",
    "        print(f\"Element = {index + 1} and degree = {f.degree()}\")"
   ]
  },
  {
   "cell_type": "code",
   "execution_count": 32,
   "id": "15b872b8",
   "metadata": {},
   "outputs": [
    {
     "name": "stdout",
     "output_type": "stream",
     "text": [
      "True\n",
      "True\n",
      "True\n",
      "True\n"
     ]
    }
   ],
   "source": [
    "for element in L[5] : \n",
    "    print(element in ideale)"
   ]
  },
  {
   "cell_type": "code",
   "execution_count": 33,
   "id": "beae5cbe",
   "metadata": {},
   "outputs": [],
   "source": [
    "from sage.all import singular"
   ]
  },
  {
   "cell_type": "code",
   "execution_count": 34,
   "id": "9498cb22",
   "metadata": {},
   "outputs": [
    {
     "name": "stdout",
     "output_type": "stream",
     "text": [
      "1 L[5][0] = 1/12 * gamma3_3--3 \n",
      "\n",
      "1 L[5][1] = 1/4 * gamma3_3--2 \n",
      "\n",
      "1 L[5][2] = 1/2 * gamma3_3--1 \n",
      "\n",
      "1 L[5][3] = 1/2 * gamma3_3--0 \n",
      "\n"
     ]
    }
   ],
   "source": [
    "lambdaa = 1\n",
    "for j in range(len(L[5])) :\n",
    "    M = singular(A.ideal(TG0)).lift(L[5][j]).sage()\n",
    "    V = [lambdaa*QQ(element[0]) for element in M]\n",
    "    string = ''\n",
    "\n",
    "    final_sum = 0\n",
    "    for i in range(len(V)) :\n",
    "        if V[i] != 0 :\n",
    "            string += str(V[i]) + ' * ' + TG1[i] + ' + '\n",
    "            final_sum += V[i] * TG0[i]\n",
    "\n",
    "    if final_sum == lambdaa * L[5][j] :\n",
    "        print(f\"{lambdaa} L[5][{j}] = {string[:-2]}\\n\")"
   ]
  },
  {
   "cell_type": "code",
   "execution_count": 35,
   "id": "e8b1bf51",
   "metadata": {},
   "outputs": [
    {
     "name": "stdout",
     "output_type": "stream",
     "text": [
      "23\n"
     ]
    },
    {
     "data": {
      "text/plain": [
       "True"
      ]
     },
     "execution_count": 35,
     "metadata": {},
     "output_type": "execute_result"
    }
   ],
   "source": [
    "l = [12, 4, 2, 2]\n",
    "for index, coef in enumerate(l) :\n",
    "    L[5][index] = coef * L[5][index]  \n",
    "T0_w = []\n",
    "for element in L :\n",
    "    T0_w.extend(element)     \n",
    "print(len(T0_w))\n",
    "A.ideal(T0_w) == ideal(I_limit)"
   ]
  },
  {
   "cell_type": "code",
   "execution_count": 36,
   "id": "44b81b0e",
   "metadata": {},
   "outputs": [
    {
     "name": "stdout",
     "output_type": "stream",
     "text": [
      "1 L[5][0] = 1 * gamma3_3--3 \n",
      "\n",
      "1 L[5][1] = 1 * gamma3_3--2 \n",
      "\n",
      "1 L[5][2] = 1 * gamma3_3--1 \n",
      "\n",
      "1 L[5][3] = 1 * gamma3_3--0 \n",
      "\n"
     ]
    }
   ],
   "source": [
    "lambdaa = 1\n",
    "for j in range(len(L[5])) :\n",
    "    M = singular(A.ideal(TG0)).lift(L[5][j]).sage()\n",
    "    V = [lambdaa*QQ(element[0]) for element in M]\n",
    "    string = ''\n",
    "\n",
    "    final_sum = 0\n",
    "    for i in range(len(V)) :\n",
    "        if V[i] != 0 :\n",
    "            string += str(V[i]) + ' * ' + TG1[i] + ' + '\n",
    "            final_sum += V[i] * TG0[i]\n",
    "\n",
    "    if final_sum == lambdaa * L[5][j] :\n",
    "        print(f\"{lambdaa} L[5][{j}] = {string[:-2]}\\n\")"
   ]
  },
  {
   "cell_type": "markdown",
   "id": "e1eadac8",
   "metadata": {},
   "source": [
    "Hence, the generators of `L[5]` in one copy of $V(3)$ in degree $3$ can be written as :\n",
    "\n",
    "##### $$\\frac{\\partial^3}{\\partial x^3 \\partial y^0} \\left( \\gamma_{3,3} \\right)$$<br>\n",
    "##### $$\\frac{\\partial^3}{\\partial x^2 \\partial y^1} \\left( \\gamma_{3,3} \\right)$$<br>\n",
    "##### $$\\frac{\\partial^3}{\\partial x^1 \\partial y^2} \\left( \\gamma_{3,3} \\right)$$<br>\n",
    "##### $$\\frac{\\partial^3}{\\partial x^0 \\partial y^3} \\left( \\gamma_{3,3} \\right)$$<br>"
   ]
  },
  {
   "cell_type": "code",
   "execution_count": 37,
   "id": "9095546d",
   "metadata": {},
   "outputs": [
    {
     "name": "stdout",
     "output_type": "stream",
     "text": [
      "True\n",
      "True\n",
      "True\n",
      "True\n"
     ]
    }
   ],
   "source": [
    "for element in L[4] : \n",
    "    print(element in ideale)"
   ]
  },
  {
   "cell_type": "code",
   "execution_count": 38,
   "id": "24f2a248",
   "metadata": {},
   "outputs": [
    {
     "name": "stdout",
     "output_type": "stream",
     "text": [
      "1 L[4][0] = -2/15 * j2*gamma1_1--3 + 2/15 * gamma3_2--3 \n",
      "\n",
      "1 L[4][1] = -2/5 * j2*gamma1_1--2 + 2/5 * gamma3_2--2 \n",
      "\n",
      "1 L[4][2] = -4/5 * j2*gamma1_1--1 + 4/5 * gamma3_2--1 \n",
      "\n",
      "1 L[4][3] = -4/5 * j2*gamma1_1--0 + 4/5 * gamma3_2--0 \n",
      "\n"
     ]
    }
   ],
   "source": [
    "lambdaa = 1\n",
    "for j in range(len(L[4])) :\n",
    "    M = singular(A.ideal(TG0)).lift(L[4][j]).sage()\n",
    "    V = [lambdaa*QQ(element[0]) for element in M]\n",
    "    string = ''\n",
    "\n",
    "    final_sum = 0\n",
    "    for i in range(len(V)) :\n",
    "        if V[i] != 0 :\n",
    "            string += str(V[i]) + ' * ' + TG1[i] + ' + '\n",
    "            final_sum += V[i] * TG0[i]\n",
    "\n",
    "    if final_sum == lambdaa * L[4][j] :\n",
    "        print(f\"{lambdaa} L[4][{j}] = {string[:-2]}\\n\")"
   ]
  },
  {
   "cell_type": "code",
   "execution_count": 39,
   "id": "a8ab8669",
   "metadata": {},
   "outputs": [
    {
     "name": "stdout",
     "output_type": "stream",
     "text": [
      "23\n"
     ]
    },
    {
     "data": {
      "text/plain": [
       "True"
      ]
     },
     "execution_count": 39,
     "metadata": {},
     "output_type": "execute_result"
    }
   ],
   "source": [
    "l = [15/2, 5/2, 5/4, 5/4]\n",
    "for index, coef in enumerate(l) :\n",
    "    L[4][index] = coef * L[4][index]\n",
    "T0_w = []\n",
    "for element in L :\n",
    "    T0_w.extend(element)\n",
    "        \n",
    "print(len(T0_w))\n",
    "A.ideal(T0_w) == ideal(I_limit)"
   ]
  },
  {
   "cell_type": "code",
   "execution_count": 40,
   "id": "3467f992",
   "metadata": {},
   "outputs": [
    {
     "name": "stdout",
     "output_type": "stream",
     "text": [
      "1 L[4][0] = -1 * j2*gamma1_1--3 + 1 * gamma3_2--3 \n",
      "\n",
      "1 L[4][1] = -1 * j2*gamma1_1--2 + 1 * gamma3_2--2 \n",
      "\n",
      "1 L[4][2] = -1 * j2*gamma1_1--1 + 1 * gamma3_2--1 \n",
      "\n",
      "1 L[4][3] = -1 * j2*gamma1_1--0 + 1 * gamma3_2--0 \n",
      "\n"
     ]
    }
   ],
   "source": [
    "lambdaa = 1\n",
    "for j in range(len(L[4])) :\n",
    "    M = singular(A.ideal(TG0)).lift(L[4][j]).sage()\n",
    "    V = [lambdaa*QQ(element[0]) for element in M]\n",
    "    string = ''\n",
    "\n",
    "    final_sum = 0\n",
    "    for i in range(len(V)) :\n",
    "        if V[i] != 0 :\n",
    "            string += str(V[i]) + ' * ' + TG1[i] + ' + '\n",
    "            final_sum += V[i] * TG0[i]\n",
    "\n",
    "    if final_sum == lambdaa * L[4][j] :\n",
    "        print(f\"{lambdaa} L[4][{j}] = {string[:-2]}\\n\")"
   ]
  },
  {
   "cell_type": "code",
   "execution_count": 41,
   "id": "6f1be37e",
   "metadata": {},
   "outputs": [],
   "source": [
    "for i, element in enumerate(L[4]) :\n",
    "    j = 3 - i \n",
    "    L[4][i] = L[4][i] + diff(diff(j2*gamma1_1, x, j), y, i)"
   ]
  },
  {
   "cell_type": "code",
   "execution_count": 42,
   "id": "1491c81d",
   "metadata": {},
   "outputs": [
    {
     "name": "stdout",
     "output_type": "stream",
     "text": [
      "1 L[4][0] = 1 * gamma3_2--3 \n",
      "\n",
      "1 L[4][1] = 1 * gamma3_2--2 \n",
      "\n",
      "1 L[4][2] = 1 * gamma3_2--1 \n",
      "\n",
      "1 L[4][3] = 1 * gamma3_2--0 \n",
      "\n"
     ]
    }
   ],
   "source": [
    "lambdaa = 1\n",
    "for j in range(len(L[4])) :\n",
    "    M = singular(ideal(TG0)).lift(L[4][j]).sage()\n",
    "    V = [lambdaa*QQ(element[0]) for element in M]\n",
    "    string = ''\n",
    "\n",
    "    final_sum = 0\n",
    "    for i in range(len(V)) :\n",
    "        if V[i] != 0 :\n",
    "            string += str(V[i]) + ' * ' + TG1[i] + ' + '\n",
    "            final_sum += V[i] * TG0[i]\n",
    "\n",
    "    if final_sum == lambdaa * L[4][j] :\n",
    "        print(f\"{lambdaa} L[4][{j}] = {string[:-2]}\\n\")"
   ]
  },
  {
   "cell_type": "code",
   "execution_count": 43,
   "id": "f95e99fd",
   "metadata": {},
   "outputs": [
    {
     "name": "stdout",
     "output_type": "stream",
     "text": [
      "23\n"
     ]
    },
    {
     "data": {
      "text/plain": [
       "True"
      ]
     },
     "execution_count": 43,
     "metadata": {},
     "output_type": "execute_result"
    }
   ],
   "source": [
    "T0_w = []\n",
    "for element in L :\n",
    "    T0_w.extend(element)\n",
    "print(len(T0_w))\n",
    "A.ideal(T0_w) == ideal(I_limit)"
   ]
  },
  {
   "cell_type": "markdown",
   "id": "011ae5ef",
   "metadata": {},
   "source": [
    "Hence, the generators of `L[4]` in the second copy of $V(3)$ in degree $3$ can be written as :\n",
    "\n",
    "##### $$\\frac{\\partial^3}{\\partial x^3 \\partial y^0} \\left( \\gamma_{3,2} \\right)$$<br>\n",
    "##### $$\\frac{\\partial^3}{\\partial x^2 \\partial y^1} \\left( \\gamma_{3,2} \\right)$$<br>\n",
    "##### $$\\frac{\\partial^3}{\\partial x^1 \\partial y^2} \\left( \\gamma_{3,2} \\right)$$<br>\n",
    "##### $$\\frac{\\partial^3}{\\partial x^0 \\partial y^3} \\left( \\gamma_{3,2} \\right)$$<br>"
   ]
  },
  {
   "cell_type": "markdown",
   "id": "43804327",
   "metadata": {},
   "source": [
    "### The 2 copies of $V(5)$ in degree $3$.   \n",
    "We recall that a basis of the space of covariants of degree $3$ and order $5$ is given by $\\beta_{2,1}\\gamma_{1,1},\\,\\,\\beta_{2,1}\\gamma_{1,2},\\,\\,\\beta_{2,2}\\gamma_{1,1},\\,\\,\\beta_{2,2}\\gamma_{1,2},\\,\\,\\beta_{2,3}\\gamma_{1,1}$ and $\\beta_{2,3}\\gamma_{1,2}$."
   ]
  },
  {
   "cell_type": "code",
   "execution_count": 44,
   "id": "975b1ae4",
   "metadata": {},
   "outputs": [
    {
     "data": {
      "text/plain": [
       "36"
      ]
     },
     "execution_count": 44,
     "metadata": {},
     "output_type": "execute_result"
    }
   ],
   "source": [
    "L_math = [beta2_1*gamma1_1, beta2_1*gamma1_2, beta2_2*gamma1_1, beta2_2*gamma1_2, beta2_3*gamma1_1, beta2_3*gamma1_2]\n",
    "L_greek = ['beta2_1*gamma1_1', 'beta2_1*gamma1_2', 'beta2_2*gamma1_1', 'beta2_2*gamma1_2', 'beta2_3*gamma1_1', 'beta2_3*gamma1_2']\n",
    "TG = []\n",
    "\n",
    "for name, covariant in zip(L_greek, L_math) :\n",
    "    for i in range(6) :\n",
    "        TG.append([diff(diff(covariant, x, i), y, 5-i), name + '--' + str(i)])\n",
    "\n",
    "TG0 = [element[0] for element in TG]\n",
    "TG1 = [element[1] for element in TG]\n",
    "len(TG1)"
   ]
  },
  {
   "cell_type": "code",
   "execution_count": 45,
   "id": "f6e5d291",
   "metadata": {},
   "outputs": [
    {
     "name": "stdout",
     "output_type": "stream",
     "text": [
      "index = 3 and degree = 3\n",
      "index = 4 and degree = 3\n",
      "index = 5 and degree = 3\n",
      "index = 6 and degree = 3\n",
      "index = 7 and degree = 3\n",
      "index = 8 and degree = 3\n",
      "index = 9 and degree = 3\n",
      "index = 10 and degree = 3\n",
      "index = 11 and degree = 3\n",
      "index = 12 and degree = 3\n",
      "index = 13 and degree = 3\n",
      "index = 14 and degree = 3\n"
     ]
    }
   ],
   "source": [
    "ideale = ideal(TG0)  \n",
    "for index, f in enumerate(T0_w) :\n",
    "    if f in ideale : \n",
    "        print(f\"index = {index + 1} and degree = {f.degree()}\")"
   ]
  },
  {
   "cell_type": "code",
   "execution_count": 46,
   "id": "1e89d9ea",
   "metadata": {},
   "outputs": [
    {
     "name": "stdout",
     "output_type": "stream",
     "text": [
      "True\n",
      "True\n",
      "True\n",
      "True\n",
      "True\n",
      "True\n"
     ]
    }
   ],
   "source": [
    "for element in L[3] : \n",
    "    print(element in ideale)"
   ]
  },
  {
   "cell_type": "code",
   "execution_count": 47,
   "id": "dc63eab1",
   "metadata": {},
   "outputs": [
    {
     "name": "stdout",
     "output_type": "stream",
     "text": [
      "1 L[3][0] = 1/120 * beta2_2*gamma1_2--5 + -1/120 * beta2_3*gamma1_1--5 \n",
      "\n",
      "1 L[3][1] = 1/24 * beta2_2*gamma1_2--4 + -1/24 * beta2_3*gamma1_1--4 \n",
      "\n",
      "1 L[3][2] = 1/6 * beta2_2*gamma1_2--3 + -1/6 * beta2_3*gamma1_1--3 \n",
      "\n",
      "1 L[3][3] = 1/2 * beta2_2*gamma1_2--2 + -1/2 * beta2_3*gamma1_1--2 \n",
      "\n",
      "1 L[3][4] = 1 * beta2_2*gamma1_2--1 + -1 * beta2_3*gamma1_1--1 \n",
      "\n",
      "1 L[3][5] = 1 * beta2_2*gamma1_2--0 + -1 * beta2_3*gamma1_1--0 \n",
      "\n"
     ]
    }
   ],
   "source": [
    "lambdaa = 1\n",
    "for j in range(len(L[3])) :\n",
    "    M = singular(A.ideal(TG0)).lift(L[3][j]).sage()\n",
    "    V = [lambdaa*QQ(element[0]) for element in M]\n",
    "    string = ''\n",
    "\n",
    "    final_sum = 0\n",
    "    for i in range(len(V)) :\n",
    "        if V[i] != 0 :\n",
    "            string += str(V[i]) + ' * ' + TG1[i] + ' + '\n",
    "            final_sum += V[i] * TG0[i]\n",
    "\n",
    "    if final_sum == lambdaa * L[3][j] :\n",
    "        print(f\"{lambdaa} L[3][{j}] = {string[:-2]}\\n\")"
   ]
  },
  {
   "cell_type": "code",
   "execution_count": 48,
   "id": "882544f0",
   "metadata": {},
   "outputs": [
    {
     "name": "stdout",
     "output_type": "stream",
     "text": [
      "23\n"
     ]
    },
    {
     "data": {
      "text/plain": [
       "True"
      ]
     },
     "execution_count": 48,
     "metadata": {},
     "output_type": "execute_result"
    }
   ],
   "source": [
    "l = [120, 24, 6, 2, 1, 1]\n",
    "for index, coef in enumerate(l) :\n",
    "    L[3][index] = coef * L[3][index]  \n",
    "T0_w = []\n",
    "for element in L :\n",
    "    T0_w.extend(element)\n",
    "print(len(T0_w))\n",
    "A.ideal(T0_w) == ideal(I_limit)"
   ]
  },
  {
   "cell_type": "code",
   "execution_count": 49,
   "id": "acc57375",
   "metadata": {},
   "outputs": [
    {
     "name": "stdout",
     "output_type": "stream",
     "text": [
      "1 L[3][0] = 1 * beta2_2*gamma1_2--5 + -1 * beta2_3*gamma1_1--5 \n",
      "\n",
      "1 L[3][1] = 1 * beta2_2*gamma1_2--4 + -1 * beta2_3*gamma1_1--4 \n",
      "\n",
      "1 L[3][2] = 1 * beta2_2*gamma1_2--3 + -1 * beta2_3*gamma1_1--3 \n",
      "\n",
      "1 L[3][3] = 1 * beta2_2*gamma1_2--2 + -1 * beta2_3*gamma1_1--2 \n",
      "\n",
      "1 L[3][4] = 1 * beta2_2*gamma1_2--1 + -1 * beta2_3*gamma1_1--1 \n",
      "\n",
      "1 L[3][5] = 1 * beta2_2*gamma1_2--0 + -1 * beta2_3*gamma1_1--0 \n",
      "\n"
     ]
    }
   ],
   "source": [
    "lambdaa = 1\n",
    "for j in range(len(L[3])) :\n",
    "    M = singular(A.ideal(TG0)).lift(L[3][j]).sage()\n",
    "    V = [lambdaa*QQ(element[0]) for element in M]\n",
    "    string = ''\n",
    "\n",
    "    final_sum = 0\n",
    "    for i in range(len(V)) :\n",
    "        if V[i] != 0 :\n",
    "            string += str(V[i]) + ' * ' + TG1[i] + ' + '\n",
    "            final_sum += V[i] * TG0[i]\n",
    "\n",
    "    if final_sum == lambdaa * L[3][j] :\n",
    "        print(f\"{lambdaa} L[3][{j}] = {string[:-2]}\\n\")"
   ]
  },
  {
   "cell_type": "markdown",
   "id": "d00085a9",
   "metadata": {},
   "source": [
    "Hence, the generators of `L[3]` in one copy of $V(5)$ in degree $3$ can be written as :\n",
    "\n",
    "##### $$\\frac{\\partial^5}{\\partial x^5 \\partial y^0} \\left( \\beta_{2,2}\\gamma_{1,2} - \\beta_{2,3}\\gamma_{1,1} \\right)$$<br>\n",
    "##### $$\\frac{\\partial^5}{\\partial x^4 \\partial y^1} \\left( \\beta_{2,2}\\gamma_{1,2} - \\beta_{2,3}\\gamma_{1,1} \\right)$$<br>\n",
    "##### $$\\frac{\\partial^5}{\\partial x^3 \\partial y^2} \\left( \\beta_{2,2}\\gamma_{1,2} - \\beta_{2,3}\\gamma_{1,1} \\right)$$<br>\n",
    "##### $$\\frac{\\partial^5}{\\partial x^2 \\partial y^3} \\left( \\beta_{2,2}\\gamma_{1,2} - \\beta_{2,3}\\gamma_{1,1} \\right)$$<br>\n",
    "##### $$\\frac{\\partial^5}{\\partial x^1 \\partial y^4} \\left( \\beta_{2,2}\\gamma_{1,2} - \\beta_{2,3}\\gamma_{1,1} \\right)$$<br>\n",
    "##### $$\\frac{\\partial^5}{\\partial x^0 \\partial y^5} \\left( \\beta_{2,2}\\gamma_{1,2} - \\beta_{2,3}\\gamma_{1,1} \\right)$$<br>\n"
   ]
  },
  {
   "cell_type": "code",
   "execution_count": 50,
   "id": "c6e6277d",
   "metadata": {},
   "outputs": [
    {
     "name": "stdout",
     "output_type": "stream",
     "text": [
      "True\n",
      "True\n",
      "True\n",
      "True\n",
      "True\n",
      "True\n"
     ]
    }
   ],
   "source": [
    "for element in L[2] : \n",
    "    print(element in ideale)"
   ]
  },
  {
   "cell_type": "code",
   "execution_count": 51,
   "id": "4c976b82",
   "metadata": {},
   "outputs": [
    {
     "name": "stdout",
     "output_type": "stream",
     "text": [
      "1 L[2][0] = -1/120 * beta2_1*gamma1_2--5 + 1/120 * beta2_2*gamma1_1--5 \n",
      "\n",
      "1 L[2][1] = -1/24 * beta2_1*gamma1_2--4 + 1/24 * beta2_2*gamma1_1--4 \n",
      "\n",
      "1 L[2][2] = -1/6 * beta2_1*gamma1_2--3 + 1/6 * beta2_2*gamma1_1--3 \n",
      "\n",
      "1 L[2][3] = -1/2 * beta2_1*gamma1_2--2 + 1/2 * beta2_2*gamma1_1--2 \n",
      "\n",
      "1 L[2][4] = -1 * beta2_1*gamma1_2--1 + 1 * beta2_2*gamma1_1--1 \n",
      "\n",
      "1 L[2][5] = -1 * beta2_1*gamma1_2--0 + 1 * beta2_2*gamma1_1--0 \n",
      "\n"
     ]
    }
   ],
   "source": [
    "lambdaa = 1\n",
    "for j in range(len(L[2])) :\n",
    "    M = singular(A.ideal(TG0)).lift(L[2][j]).sage()\n",
    "    V = [lambdaa*QQ(element[0]) for element in M]\n",
    "    string = ''\n",
    "\n",
    "    final_sum = 0\n",
    "    for i in range(len(V)) :\n",
    "        if V[i] != 0 :\n",
    "            string += str(V[i]) + ' * ' + TG1[i] + ' + '\n",
    "            final_sum += V[i] * TG0[i]\n",
    "\n",
    "    if final_sum == lambdaa * L[2][j] :\n",
    "        print(f\"{lambdaa} L[2][{j}] = {string[:-2]}\\n\")"
   ]
  },
  {
   "cell_type": "code",
   "execution_count": 52,
   "id": "4cad5d02",
   "metadata": {},
   "outputs": [
    {
     "name": "stdout",
     "output_type": "stream",
     "text": [
      "23\n"
     ]
    },
    {
     "data": {
      "text/plain": [
       "True"
      ]
     },
     "execution_count": 52,
     "metadata": {},
     "output_type": "execute_result"
    }
   ],
   "source": [
    "l = [-120, -24, -6, -2, -1, -1]\n",
    "for index, coef in enumerate(l) :\n",
    "    L[2][index] = coef * L[2][index]  \n",
    "T0_w = []\n",
    "for element in L :\n",
    "    T0_w.extend(element)\n",
    "print(len(T0_w))\n",
    "A.ideal(T0_w) == ideal(I_limit)"
   ]
  },
  {
   "cell_type": "code",
   "execution_count": 53,
   "id": "765f39ca",
   "metadata": {},
   "outputs": [
    {
     "name": "stdout",
     "output_type": "stream",
     "text": [
      "1 L[2][0] = 1 * beta2_1*gamma1_2--5 + -1 * beta2_2*gamma1_1--5 \n",
      "\n",
      "1 L[2][1] = 1 * beta2_1*gamma1_2--4 + -1 * beta2_2*gamma1_1--4 \n",
      "\n",
      "1 L[2][2] = 1 * beta2_1*gamma1_2--3 + -1 * beta2_2*gamma1_1--3 \n",
      "\n",
      "1 L[2][3] = 1 * beta2_1*gamma1_2--2 + -1 * beta2_2*gamma1_1--2 \n",
      "\n",
      "1 L[2][4] = 1 * beta2_1*gamma1_2--1 + -1 * beta2_2*gamma1_1--1 \n",
      "\n",
      "1 L[2][5] = 1 * beta2_1*gamma1_2--0 + -1 * beta2_2*gamma1_1--0 \n",
      "\n"
     ]
    }
   ],
   "source": [
    "lambdaa = 1\n",
    "for j in range(len(L[2])) :\n",
    "    M = singular(A.ideal(TG0)).lift(L[2][j]).sage()\n",
    "    V = [lambdaa*QQ(element[0]) for element in M]\n",
    "    string = ''\n",
    "\n",
    "    final_sum = 0\n",
    "    for i in range(len(V)) :\n",
    "        if V[i] != 0 :\n",
    "            string += str(V[i]) + ' * ' + TG1[i] + ' + '\n",
    "            final_sum += V[i] * TG0[i]\n",
    "\n",
    "    if final_sum == lambdaa * L[2][j] :\n",
    "        print(f\"{lambdaa} L[2][{j}] = {string[:-2]}\\n\")"
   ]
  },
  {
   "cell_type": "markdown",
   "id": "a8040015",
   "metadata": {},
   "source": [
    "Hence, the generators of `L[2]` in the second copy of $V(5)$ in degree $3$ can be written as :\n",
    "\n",
    "##### $$\\frac{\\partial^5}{\\partial x^5 \\partial y^0} \\left( \\beta_{2,1}\\gamma_{1,2} - \\beta_{2,2}\\gamma_{1,1} \\right)$$<br>\n",
    "##### $$\\frac{\\partial^5}{\\partial x^4 \\partial y^1} \\left( \\beta_{2,1}\\gamma_{1,2} - \\beta_{2,2}\\gamma_{1,1} \\right)$$<br>\n",
    "##### $$\\frac{\\partial^5}{\\partial x^3 \\partial y^2} \\left( \\beta_{2,1}\\gamma_{1,2} - \\beta_{2,2}\\gamma_{1,1} \\right)$$<br>\n",
    "##### $$\\frac{\\partial^5}{\\partial x^2 \\partial y^3} \\left( \\beta_{2,1}\\gamma_{1,2} - \\beta_{2,2}\\gamma_{1,1} \\right)$$<br>\n",
    "##### $$\\frac{\\partial^5}{\\partial x^1 \\partial y^4} \\left( \\beta_{2,1}\\gamma_{1,2} - \\beta_{2,2}\\gamma_{1,1} \\right)$$<br>\n",
    "##### $$\\frac{\\partial^5}{\\partial x^0 \\partial y^5} \\left( \\beta_{2,1}\\gamma_{1,2} - \\beta_{2,2}\\gamma_{1,1} \\right)$$<br>\n"
   ]
  },
  {
   "cell_type": "markdown",
   "id": "1a3bf77f",
   "metadata": {},
   "source": [
    "### Summary :\n",
    "#### $$I_{limit} = \\,\\, V(0)^{\\oplus(3)} \\,\\,\\oplus\\,\\, V(3)^{\\oplus(2)}\\,\\, \\oplus\\,\\,V(5)^{\\oplus(2)}$$\n",
    "<br><br><br>\n",
    "\n",
    "##### $$j_2 : \\color{red}{V(0) \\text{ in degree 2}}$$\n",
    "##### $$\\gamma_{3,2} : \\color{red}{V(3) \\text{ in degree 3}}$$\n",
    "##### $$\\gamma_{3,3} : \\color{red}{V(3) \\text{ in degree 3}}$$\n",
    "\n",
    "##### $$\\beta_{2,2}\\gamma_{1,2} - \\beta_{2,3}\\gamma_{1,1} : \\color{red}{V(5) \\text{ in degree 3}}$$\n",
    "##### $$\\beta_{2,1}\\gamma_{1,2} - \\beta_{2,2}\\gamma_{1,1} : \\color{red}{V(5) \\text{ in degree 3}}$$\n",
    "\n",
    "##### $$j_{41} : \\color{red}{V(0) \\text{ in degree 4}}$$\n",
    "##### $$j_{42} : \\color{red}{V(0) \\text{ in degree 4}}$$"
   ]
  },
  {
   "cell_type": "markdown",
   "id": "032d307f",
   "metadata": {},
   "source": [
    "# Checking subspaces"
   ]
  },
  {
   "cell_type": "code",
   "execution_count": 54,
   "id": "cddde1f5",
   "metadata": {},
   "outputs": [],
   "source": [
    "from Utilities import *"
   ]
  },
  {
   "cell_type": "markdown",
   "id": "2fd0e50f",
   "metadata": {},
   "source": [
    "### $\\text{Sym}^0(V(3)\\otimes V(1))$"
   ]
  },
  {
   "cell_type": "code",
   "execution_count": null,
   "id": "241306d3",
   "metadata": {},
   "outputs": [],
   "source": []
  },
  {
   "cell_type": "markdown",
   "id": "efc7ccd4",
   "metadata": {},
   "source": [
    "### $\\text{Sym}^1(V(3)\\otimes V(1))$"
   ]
  },
  {
   "cell_type": "code",
   "execution_count": 287,
   "id": "121c58e2",
   "metadata": {},
   "outputs": [
    {
     "name": "stdout",
     "output_type": "stream",
     "text": [
      "[-a_3^2*b_1 + a_2*a_4*b_1 + a_2*a_3*b_2 - a_1*a_4*b_2 - a_2^2*b_3 + a_1*a_3*b_3, -a_3^2*b_2 + a_2*a_4*b_2 + a_2*a_3*b_3 - a_1*a_4*b_3 - a_2^2*b_4 + a_1*a_3*b_4]\n",
      "\n",
      "[-a_3^2*b_1 + a_2*a_4*b_1 + a_2*a_3*b_2 - a_1*a_4*b_2 - a_2^2*b_3 + a_1*a_3*b_3, -a_3^2*b_2 + a_2*a_4*b_2 + a_2*a_3*b_3 - a_1*a_4*b_3 - a_2^2*b_4 + a_1*a_3*b_4]\n",
      "\n",
      "[0, 0]\n"
     ]
    }
   ],
   "source": [
    "covariant = alpha3_1\n",
    "\n",
    "print(f\"{to_vector(covariant)}\\n\")\n",
    "print(check_action(covariant, ProdActOperator.Z_2))\n",
    "print()\n",
    "print(check_action(covariant, ProdActOperator.X_2))"
   ]
  },
  {
   "cell_type": "code",
   "execution_count": 286,
   "id": "a5241aa5",
   "metadata": {},
   "outputs": [
    {
     "name": "stdout",
     "output_type": "stream",
     "text": [
      "[-a_3*b_2^2 + a_3*b_1*b_3 + a_2*b_2*b_3 - a_1*b_3^2 - a_2*b_1*b_4 + a_1*b_2*b_4, -a_4*b_2^2 + a_4*b_1*b_3 + a_3*b_2*b_3 - a_2*b_3^2 - a_3*b_1*b_4 + a_2*b_2*b_4]\n",
      "\n",
      "[a_3*b_2^2 - a_3*b_1*b_3 - a_2*b_2*b_3 + a_1*b_3^2 + a_2*b_1*b_4 - a_1*b_2*b_4, a_4*b_2^2 - a_4*b_1*b_3 - a_3*b_2*b_3 + a_2*b_3^2 + a_3*b_1*b_4 - a_2*b_2*b_4]\n",
      "\n",
      "[a_3^2*b_1 - a_2*a_4*b_1 - a_2*a_3*b_2 + a_1*a_4*b_2 + a_2^2*b_3 - a_1*a_3*b_3, a_3^2*b_2 - a_2*a_4*b_2 - a_2*a_3*b_3 + a_1*a_4*b_3 + a_2^2*b_4 - a_1*a_3*b_4]\n"
     ]
    }
   ],
   "source": [
    "covariant = alpha3_2\n",
    "\n",
    "print(f\"{to_vector(covariant)}\\n\")\n",
    "print(check_action(covariant, ProdActOperator.Z_2))\n",
    "print()\n",
    "print(check_action(covariant, ProdActOperator.X_2))"
   ]
  },
  {
   "cell_type": "markdown",
   "id": "d60560ac",
   "metadata": {},
   "source": [
    "### $\\text{Sym}^2(V(3)\\otimes V(1))$"
   ]
  },
  {
   "cell_type": "code",
   "execution_count": 285,
   "id": "2c421e86",
   "metadata": {},
   "outputs": [
    {
     "name": "stdout",
     "output_type": "stream",
     "text": [
      "[-a_2^2 + a_1*a_3, -a_2*a_3 + a_1*a_4, -a_3^2 + a_2*a_4]\n",
      "\n",
      "[-2*a_2^2 + 2*a_1*a_3, -2*a_2*a_3 + 2*a_1*a_4, -2*a_3^2 + 2*a_2*a_4]\n",
      "\n",
      "[0, 0, 0]\n"
     ]
    }
   ],
   "source": [
    "covariant = beta2_1\n",
    "\n",
    "print(f\"{to_vector(covariant)}\\n\")\n",
    "print(check_action(covariant, ProdActOperator.Z_2))\n",
    "print()\n",
    "print(check_action(covariant, ProdActOperator.X_2))"
   ]
  },
  {
   "cell_type": "code",
   "execution_count": 284,
   "id": "1b7dc5f7",
   "metadata": {},
   "outputs": [
    {
     "name": "stdout",
     "output_type": "stream",
     "text": [
      "[a_3*b_1 - 2*a_2*b_2 + a_1*b_3, a_4*b_1 - a_3*b_2 - a_2*b_3 + a_1*b_4, a_4*b_2 - 2*a_3*b_3 + a_2*b_4]\n",
      "\n",
      "[0, 0, 0]\n",
      "\n",
      "[-2*a_2^2 + 2*a_1*a_3, -2*a_2*a_3 + 2*a_1*a_4, -2*a_3^2 + 2*a_2*a_4]\n"
     ]
    }
   ],
   "source": [
    "covariant = beta2_2\n",
    "\n",
    "print(f\"{to_vector(covariant)}\\n\")\n",
    "print(check_action(covariant, ProdActOperator.Z_2))\n",
    "print()\n",
    "print(check_action(covariant, ProdActOperator.X_2))"
   ]
  },
  {
   "cell_type": "code",
   "execution_count": 283,
   "id": "95454272",
   "metadata": {},
   "outputs": [
    {
     "name": "stdout",
     "output_type": "stream",
     "text": [
      "[-b_2^2 + b_1*b_3, -b_2*b_3 + b_1*b_4, -b_3^2 + b_2*b_4]\n",
      "\n",
      "[2*b_2^2 - 2*b_1*b_3, 2*b_2*b_3 - 2*b_1*b_4, 2*b_3^2 - 2*b_2*b_4]\n",
      "\n",
      "[a_3*b_1 - 2*a_2*b_2 + a_1*b_3, a_4*b_1 - a_3*b_2 - a_2*b_3 + a_1*b_4, a_4*b_2 - 2*a_3*b_3 + a_2*b_4]\n"
     ]
    }
   ],
   "source": [
    "covariant = beta2_3\n",
    "\n",
    "print(f\"{to_vector(covariant)}\\n\")\n",
    "print(check_action(covariant, ProdActOperator.Z_2))\n",
    "print()\n",
    "print(check_action(covariant, ProdActOperator.X_2))"
   ]
  },
  {
   "cell_type": "markdown",
   "id": "95fa37c7",
   "metadata": {},
   "source": [
    "### $\\text{Sym}^3(V(3)\\otimes V(1))$"
   ]
  },
  {
   "cell_type": "code",
   "execution_count": 282,
   "id": "d2b715d7",
   "metadata": {},
   "outputs": [
    {
     "name": "stdout",
     "output_type": "stream",
     "text": [
      "[a_1, 3*a_2, 3*a_3, a_4]\n",
      "\n",
      "[a_1, 3*a_2, 3*a_3, a_4]\n",
      "\n",
      "[0, 0, 0, 0]\n"
     ]
    }
   ],
   "source": [
    "covariant = gamma1_1\n",
    "\n",
    "print(f\"{to_vector(covariant)}\\n\")\n",
    "print(check_action(covariant, ProdActOperator.Z_2))\n",
    "print()\n",
    "print(check_action(covariant, ProdActOperator.X_2))"
   ]
  },
  {
   "cell_type": "code",
   "execution_count": 281,
   "id": "76cf6427",
   "metadata": {},
   "outputs": [
    {
     "name": "stdout",
     "output_type": "stream",
     "text": [
      "[b_1, 3*b_2, 3*b_3, b_4]\n",
      "\n",
      "[-b_1, -3*b_2, -3*b_3, -b_4]\n",
      "\n",
      "[a_1, 3*a_2, 3*a_3, a_4]\n"
     ]
    }
   ],
   "source": [
    "covariant = gamma1_2\n",
    "\n",
    "print(f\"{to_vector(covariant)}\\n\")\n",
    "print(check_action(covariant, ProdActOperator.Z_2))\n",
    "print()\n",
    "print(check_action(covariant, ProdActOperator.X_2))"
   ]
  },
  {
   "cell_type": "code",
   "execution_count": 280,
   "id": "0bc588cc",
   "metadata": {},
   "outputs": [
    {
     "name": "stdout",
     "output_type": "stream",
     "text": [
      "[2*a_2^3 - 3*a_1*a_2*a_3 + a_1^2*a_4, 3*a_2^2*a_3 - 6*a_1*a_3^2 + 3*a_1*a_2*a_4, -3*a_2*a_3^2 + 6*a_2^2*a_4 - 3*a_1*a_3*a_4, -2*a_3^3 + 3*a_2*a_3*a_4 - a_1*a_4^2]\n",
      "\n",
      "[6*a_2^3 - 9*a_1*a_2*a_3 + 3*a_1^2*a_4, 9*a_2^2*a_3 - 18*a_1*a_3^2 + 9*a_1*a_2*a_4, -9*a_2*a_3^2 + 18*a_2^2*a_4 - 9*a_1*a_3*a_4, -6*a_3^3 + 9*a_2*a_3*a_4 - 3*a_1*a_4^2]\n",
      "\n",
      "[0, 0, 0, 0]\n"
     ]
    }
   ],
   "source": [
    "covariant = gamma3_1\n",
    "\n",
    "print(f\"{to_vector(covariant)}\\n\")\n",
    "print(check_action(covariant, ProdActOperator.Z_2))\n",
    "print()\n",
    "print(check_action(covariant, ProdActOperator.X_2))"
   ]
  },
  {
   "cell_type": "code",
   "execution_count": 279,
   "id": "509e80ad",
   "metadata": {},
   "outputs": [
    {
     "name": "stdout",
     "output_type": "stream",
     "text": [
      "[-a_2*a_3*b_1 + a_1*a_4*b_1 + 2*a_2^2*b_2 - 2*a_1*a_3*b_2, -2*a_3^2*b_1 + 2*a_2*a_4*b_1 - a_2*a_3*b_2 + a_1*a_4*b_2 + 4*a_2^2*b_3 - 4*a_1*a_3*b_3, -4*a_3^2*b_2 + 4*a_2*a_4*b_2 + a_2*a_3*b_3 - a_1*a_4*b_3 + 2*a_2^2*b_4 - 2*a_1*a_3*b_4, -2*a_3^2*b_3 + 2*a_2*a_4*b_3 + a_2*a_3*b_4 - a_1*a_4*b_4]\n",
      "\n",
      "[-a_2*a_3*b_1 + a_1*a_4*b_1 + 2*a_2^2*b_2 - 2*a_1*a_3*b_2, -2*a_3^2*b_1 + 2*a_2*a_4*b_1 - a_2*a_3*b_2 + a_1*a_4*b_2 + 4*a_2^2*b_3 - 4*a_1*a_3*b_3, -4*a_3^2*b_2 + 4*a_2*a_4*b_2 + a_2*a_3*b_3 - a_1*a_4*b_3 + 2*a_2^2*b_4 - 2*a_1*a_3*b_4, -2*a_3^2*b_3 + 2*a_2*a_4*b_3 + a_2*a_3*b_4 - a_1*a_4*b_4]\n",
      "\n",
      "[2*a_2^3 - 3*a_1*a_2*a_3 + a_1^2*a_4, 3*a_2^2*a_3 - 6*a_1*a_3^2 + 3*a_1*a_2*a_4, -3*a_2*a_3^2 + 6*a_2^2*a_4 - 3*a_1*a_3*a_4, -2*a_3^3 + 3*a_2*a_3*a_4 - a_1*a_4^2]\n"
     ]
    }
   ],
   "source": [
    "covariant = gamma3_2\n",
    "\n",
    "print(f\"{to_vector(covariant)}\\n\")\n",
    "print(check_action(covariant, ProdActOperator.Z_2))\n",
    "print()\n",
    "print(check_action(covariant, ProdActOperator.X_2))"
   ]
  },
  {
   "cell_type": "code",
   "execution_count": 278,
   "id": "a11c4ba8",
   "metadata": {},
   "outputs": [
    {
     "name": "stdout",
     "output_type": "stream",
     "text": [
      "[2*a_2*b_2^2 - 2*a_2*b_1*b_3 - a_1*b_2*b_3 + a_1*b_1*b_4, 4*a_3*b_2^2 - 4*a_3*b_1*b_3 - a_2*b_2*b_3 - 2*a_1*b_3^2 + a_2*b_1*b_4 + 2*a_1*b_2*b_4, 2*a_4*b_2^2 - 2*a_4*b_1*b_3 + a_3*b_2*b_3 - 4*a_2*b_3^2 - a_3*b_1*b_4 + 4*a_2*b_2*b_4, a_4*b_2*b_3 - 2*a_3*b_3^2 - a_4*b_1*b_4 + 2*a_3*b_2*b_4]\n",
      "\n",
      "[-2*a_2*b_2^2 + 2*a_2*b_1*b_3 + a_1*b_2*b_3 - a_1*b_1*b_4, -4*a_3*b_2^2 + 4*a_3*b_1*b_3 + a_2*b_2*b_3 + 2*a_1*b_3^2 - a_2*b_1*b_4 - 2*a_1*b_2*b_4, -2*a_4*b_2^2 + 2*a_4*b_1*b_3 - a_3*b_2*b_3 + 4*a_2*b_3^2 + a_3*b_1*b_4 - 4*a_2*b_2*b_4, -a_4*b_2*b_3 + 2*a_3*b_3^2 + a_4*b_1*b_4 - 2*a_3*b_2*b_4]\n",
      "\n",
      "[-2*a_2*a_3*b_1 + a_1*a_4*b_1 + 4*a_2^2*b_2 - a_1*a_3*b_2 - 3*a_1*a_2*b_3 + a_1^2*b_4, -4*a_3^2*b_1 + a_2*a_4*b_1 + 7*a_2*a_3*b_2 + 2*a_1*a_4*b_2 - a_2^2*b_3 - 8*a_1*a_3*b_3 + 3*a_1*a_2*b_4, -3*a_3*a_4*b_1 + a_3^2*b_2 + 8*a_2*a_4*b_2 - 7*a_2*a_3*b_3 - 2*a_1*a_4*b_3 + 4*a_2^2*b_4 - a_1*a_3*b_4, -a_4^2*b_1 + 3*a_3*a_4*b_2 - 4*a_3^2*b_3 + a_2*a_4*b_3 + 2*a_2*a_3*b_4 - a_1*a_4*b_4]\n"
     ]
    }
   ],
   "source": [
    "covariant = gamma3_3\n",
    "\n",
    "print(f\"{to_vector(covariant)}\\n\")\n",
    "print(check_action(covariant, ProdActOperator.Z_2))\n",
    "print()\n",
    "print(check_action(covariant, ProdActOperator.X_2))"
   ]
  },
  {
   "cell_type": "code",
   "execution_count": 277,
   "id": "128cf86e",
   "metadata": {},
   "outputs": [
    {
     "name": "stdout",
     "output_type": "stream",
     "text": [
      "[2*b_2^3 - 3*b_1*b_2*b_3 + b_1^2*b_4, 3*b_2^2*b_3 - 6*b_1*b_3^2 + 3*b_1*b_2*b_4, -3*b_2*b_3^2 + 6*b_2^2*b_4 - 3*b_1*b_3*b_4, -2*b_3^3 + 3*b_2*b_3*b_4 - b_1*b_4^2]\n",
      "\n",
      "[-6*b_2^3 + 9*b_1*b_2*b_3 - 3*b_1^2*b_4, -9*b_2^2*b_3 + 18*b_1*b_3^2 - 9*b_1*b_2*b_4, 9*b_2*b_3^2 - 18*b_2^2*b_4 + 9*b_1*b_3*b_4, 6*b_3^3 - 9*b_2*b_3*b_4 + 3*b_1*b_4^2]\n",
      "\n",
      "[a_4*b_1^2 - 3*a_3*b_1*b_2 + 6*a_2*b_2^2 - 3*a_2*b_1*b_3 - 3*a_1*b_2*b_3 + 2*a_1*b_1*b_4, 3*a_4*b_1*b_2 + 3*a_3*b_2^2 - 12*a_3*b_1*b_3 + 6*a_2*b_2*b_3 - 6*a_1*b_3^2 + 3*a_2*b_1*b_4 + 3*a_1*b_2*b_4, 6*a_4*b_2^2 - 3*a_4*b_1*b_3 - 6*a_3*b_2*b_3 - 3*a_2*b_3^2 - 3*a_3*b_1*b_4 + 12*a_2*b_2*b_4 - 3*a_1*b_3*b_4, 3*a_4*b_2*b_3 - 6*a_3*b_3^2 - 2*a_4*b_1*b_4 + 3*a_3*b_2*b_4 + 3*a_2*b_3*b_4 - a_1*b_4^2]\n"
     ]
    }
   ],
   "source": [
    "covariant = gamma3_4\n",
    "\n",
    "print(f\"{to_vector(covariant)}\\n\")\n",
    "print(check_action(covariant, ProdActOperator.Z_2))\n",
    "print()\n",
    "print(check_action(covariant, ProdActOperator.X_2))"
   ]
  },
  {
   "cell_type": "markdown",
   "id": "b03f538e",
   "metadata": {},
   "source": [
    "### $\\text{Sym}^4(V(3)\\otimes V(1))$"
   ]
  },
  {
   "cell_type": "code",
   "execution_count": 276,
   "id": "53fd31bd",
   "metadata": {},
   "outputs": [
    {
     "name": "stdout",
     "output_type": "stream",
     "text": [
      "[a_2*b_1 - a_1*b_2, 2*a_3*b_1 - 2*a_1*b_3, a_4*b_1 + 3*a_3*b_2 - 3*a_2*b_3 - a_1*b_4, 2*a_4*b_2 - 2*a_2*b_4, a_4*b_3 - a_3*b_4]\n",
      "\n",
      "[0, 0, 0, 0, 0]\n",
      "\n",
      "[0, 0, 0, 0, 0]\n"
     ]
    }
   ],
   "source": [
    "covariant = delta2\n",
    "\n",
    "print(f\"{to_vector(covariant)}\\n\")\n",
    "print(check_action(covariant, ProdActOperator.Z_2))\n",
    "print()\n",
    "print(check_action(covariant, ProdActOperator.X_2))"
   ]
  },
  {
   "cell_type": "markdown",
   "id": "9e05e409",
   "metadata": {},
   "source": [
    "### $\\text{Sym}^5(V(3)\\otimes V(1))$"
   ]
  },
  {
   "cell_type": "code",
   "execution_count": 289,
   "id": "bd78df28",
   "metadata": {},
   "outputs": [
    {
     "name": "stdout",
     "output_type": "stream",
     "text": [
      "[-a_1*a_2^2 + a_1^2*a_3, -3*a_2^3 + 2*a_1*a_2*a_3 + a_1^2*a_4, -6*a_2^2*a_3 + 2*a_1*a_3^2 + 4*a_1*a_2*a_4, -6*a_2*a_3^2 + 2*a_2^2*a_4 + 4*a_1*a_3*a_4, -3*a_3^3 + 2*a_2*a_3*a_4 + a_1*a_4^2, -a_3^2*a_4 + a_2*a_4^2]\n",
      "\n",
      "[-3*a_1*a_2^2 + 3*a_1^2*a_3, -9*a_2^3 + 6*a_1*a_2*a_3 + 3*a_1^2*a_4, -18*a_2^2*a_3 + 6*a_1*a_3^2 + 12*a_1*a_2*a_4, -18*a_2*a_3^2 + 6*a_2^2*a_4 + 12*a_1*a_3*a_4, -9*a_3^3 + 6*a_2*a_3*a_4 + 3*a_1*a_4^2, -3*a_3^2*a_4 + 3*a_2*a_4^2]\n",
      "\n",
      "[0, 0, 0, 0, 0, 0]\n"
     ]
    }
   ],
   "source": [
    "covariant = beta2_1*gamma1_1\n",
    "\n",
    "print(f\"{to_vector(covariant)}\\n\")\n",
    "print(check_action(covariant, ProdActOperator.Z_2))\n",
    "print()\n",
    "print(check_action(covariant, ProdActOperator.X_2))"
   ]
  },
  {
   "cell_type": "code",
   "execution_count": 296,
   "id": "7107a470",
   "metadata": {},
   "outputs": [
    {
     "name": "stdout",
     "output_type": "stream",
     "text": [
      "[a_1*b_2^2 - a_1*b_1*b_3, 3*a_2*b_2^2 - 3*a_2*b_1*b_3 + a_1*b_2*b_3 - a_1*b_1*b_4, 3*a_3*b_2^2 - 3*a_3*b_1*b_3 + 3*a_2*b_2*b_3 + a_1*b_3^2 - 3*a_2*b_1*b_4 - a_1*b_2*b_4, a_4*b_2^2 - a_4*b_1*b_3 + 3*a_3*b_2*b_3 + 3*a_2*b_3^2 - 3*a_3*b_1*b_4 - 3*a_2*b_2*b_4, a_4*b_2*b_3 + 3*a_3*b_3^2 - a_4*b_1*b_4 - 3*a_3*b_2*b_4, a_4*b_3^2 - a_4*b_2*b_4]\n",
      "\n",
      "[-a_1*b_2^2 + a_1*b_1*b_3, -3*a_2*b_2^2 + 3*a_2*b_1*b_3 - a_1*b_2*b_3 + a_1*b_1*b_4, -3*a_3*b_2^2 + 3*a_3*b_1*b_3 - 3*a_2*b_2*b_3 - a_1*b_3^2 + 3*a_2*b_1*b_4 + a_1*b_2*b_4, -a_4*b_2^2 + a_4*b_1*b_3 - 3*a_3*b_2*b_3 - 3*a_2*b_3^2 + 3*a_3*b_1*b_4 + 3*a_2*b_2*b_4, -a_4*b_2*b_3 - 3*a_3*b_3^2 + a_4*b_1*b_4 + 3*a_3*b_2*b_4, -a_4*b_3^2 + a_4*b_2*b_4]\n",
      "\n",
      "[-a_1*a_3*b_1 + 2*a_1*a_2*b_2 - a_1^2*b_3, -3*a_2*a_3*b_1 - a_1*a_4*b_1 + 6*a_2^2*b_2 + a_1*a_3*b_2 - 2*a_1*a_2*b_3 - a_1^2*b_4, -3*a_3^2*b_1 - 3*a_2*a_4*b_1 + 9*a_2*a_3*b_2 - a_1*a_4*b_2 + 3*a_2^2*b_3 - a_1*a_3*b_3 - 4*a_1*a_2*b_4, -4*a_3*a_4*b_1 + 3*a_3^2*b_2 - a_2*a_4*b_2 + 9*a_2*a_3*b_3 - a_1*a_4*b_3 - 3*a_2^2*b_4 - 3*a_1*a_3*b_4, -a_4^2*b_1 - 2*a_3*a_4*b_2 + 6*a_3^2*b_3 + a_2*a_4*b_3 - 3*a_2*a_3*b_4 - a_1*a_4*b_4, -a_4^2*b_2 + 2*a_3*a_4*b_3 - a_2*a_4*b_4]\n"
     ]
    }
   ],
   "source": [
    "covariant = beta2_2*gamma1_2 - beta2_3*gamma1_1\n",
    "\n",
    "print(f\"{to_vector(covariant)}\\n\")\n",
    "print(check_action(covariant, ProdActOperator.Z_2))\n",
    "print()\n",
    "print(check_action(covariant, ProdActOperator.X_2))"
   ]
  },
  {
   "cell_type": "code",
   "execution_count": 298,
   "id": "c7ad3b91",
   "metadata": {},
   "outputs": [
    {
     "name": "stdout",
     "output_type": "stream",
     "text": [
      "[-a_2^2*b_1 + a_1*a_3*b_1, -a_2*a_3*b_1 + a_1*a_4*b_1 - 3*a_2^2*b_2 + 3*a_1*a_3*b_2, -a_3^2*b_1 + a_2*a_4*b_1 - 3*a_2*a_3*b_2 + 3*a_1*a_4*b_2 - 3*a_2^2*b_3 + 3*a_1*a_3*b_3, -3*a_3^2*b_2 + 3*a_2*a_4*b_2 - 3*a_2*a_3*b_3 + 3*a_1*a_4*b_3 - a_2^2*b_4 + a_1*a_3*b_4, -3*a_3^2*b_3 + 3*a_2*a_4*b_3 - a_2*a_3*b_4 + a_1*a_4*b_4, -a_3^2*b_4 + a_2*a_4*b_4]\n",
      "\n",
      "[-a_2^2*b_1 + a_1*a_3*b_1, -a_2*a_3*b_1 + a_1*a_4*b_1 - 3*a_2^2*b_2 + 3*a_1*a_3*b_2, -a_3^2*b_1 + a_2*a_4*b_1 - 3*a_2*a_3*b_2 + 3*a_1*a_4*b_2 - 3*a_2^2*b_3 + 3*a_1*a_3*b_3, -3*a_3^2*b_2 + 3*a_2*a_4*b_2 - 3*a_2*a_3*b_3 + 3*a_1*a_4*b_3 - a_2^2*b_4 + a_1*a_3*b_4, -3*a_3^2*b_3 + 3*a_2*a_4*b_3 - a_2*a_3*b_4 + a_1*a_4*b_4, -a_3^2*b_4 + a_2*a_4*b_4]\n",
      "\n",
      "[-a_1*a_2^2 + a_1^2*a_3, -3*a_2^3 + 2*a_1*a_2*a_3 + a_1^2*a_4, -6*a_2^2*a_3 + 2*a_1*a_3^2 + 4*a_1*a_2*a_4, -6*a_2*a_3^2 + 2*a_2^2*a_4 + 4*a_1*a_3*a_4, -3*a_3^3 + 2*a_2*a_3*a_4 + a_1*a_4^2, -a_3^2*a_4 + a_2*a_4^2]\n"
     ]
    }
   ],
   "source": [
    "covariant = beta2_1*gamma1_2 - beta2_2*gamma1_1\n",
    "\n",
    "print(f\"{to_vector(covariant)}\\n\")\n",
    "print(check_action(covariant, ProdActOperator.Z_2))\n",
    "print()\n",
    "print(check_action(covariant, ProdActOperator.X_2))"
   ]
  },
  {
   "cell_type": "code",
   "execution_count": 58,
   "id": "862f0ad3",
   "metadata": {},
   "outputs": [
    {
     "name": "stdout",
     "output_type": "stream",
     "text": [
      "j2\n",
      "j41\n",
      "j42\n",
      "j43\n",
      "j44\n",
      "j45\n",
      "j6\n",
      "alpha3_1 * alpha3_1\n",
      "alpha3_1 * alpha3_2\n",
      "alpha3_1 * beta2_1\n",
      "alpha3_1 * beta2_2\n",
      "alpha3_1 * beta2_3\n",
      "alpha3_1 * gamma1_2\n",
      "alpha3_1 * gamma3_1\n",
      "alpha3_1 * gamma3_4\n",
      "alpha3_1 * delta2\n",
      "alpha3_2 * alpha3_2\n",
      "alpha3_2 * beta2_1\n",
      "alpha3_2 * beta2_2\n",
      "alpha3_2 * beta2_3\n",
      "alpha3_2 * gamma1_1\n",
      "alpha3_2 * gamma3_1\n",
      "alpha3_2 * gamma3_4\n",
      "alpha3_2 * delta2\n",
      "alpha5_1\n",
      "alpha5_2\n",
      "alpha5_3\n",
      "alpha5_4\n",
      "alpha7_1\n",
      "alpha7_2\n",
      "alpha7_3\n",
      "alpha7_4\n",
      "beta2_1 * beta2_1 * beta2_2\n",
      "beta2_1 * beta2_2 * gamma1_2\n",
      "beta2_1 * beta2_3\n",
      "beta2_1 * gamma3_4\n",
      "beta2_1 * delta2\n",
      "beta2_2 * beta2_2\n",
      "beta2_2 * beta2_3 * beta2_3\n",
      "beta2_2 * beta2_3 * gamma1_1\n",
      "beta2_2 * gamma3_1\n",
      "beta2_2 * gamma3_4\n",
      "beta2_2 * delta2\n",
      "beta2_3 * gamma3_1\n",
      "beta2_3 * delta2\n",
      "beta4_1\n",
      "beta4_2\n",
      "beta4_3\n",
      "gamma1_1 * gamma3_4\n",
      "gamma1_2 * gamma3_1\n",
      "gamma3_1 * gamma3_1 * delta2\n",
      "gamma3_1 * gamma3_4\n",
      "gamma3_1 * delta2 * delta2\n",
      "gamma3_2\n",
      "gamma3_3\n",
      "gamma3_4 * gamma3_4 * delta2\n",
      "gamma3_4 * delta2 * delta2\n",
      "delta2 * delta2 * delta2\n"
     ]
    }
   ],
   "source": [
    "display_belong(I_limit)"
   ]
  },
  {
   "cell_type": "markdown",
   "id": "cfa477e0",
   "metadata": {},
   "source": [
    "# Action of the product group $\\text{SL}_2(\\mathbb{C}) \\times \\text{SL}_2(\\mathbb{C})$ on the representation $V(3) \\otimes V(1)$"
   ]
  },
  {
   "cell_type": "markdown",
   "id": "88600f36",
   "metadata": {},
   "source": [
    "### Setting the action\n",
    "The action of the product group $\\text{SL}_2(\\mathbb{C}) \\times \\text{SL}_2(\\mathbb{C})$ on the representation $V(3) \\otimes V(1)$ is given by \n",
    "<br><br>\n",
    "$$(g_1, g_2)\\bullet (u \\otimes v) = (g_1 \\bullet u) \\otimes (g_2 \\bullet v).$$ \n",
    "<br><br>\n",
    "By linearizing (differentiating) this action, we get an action of the Lie algebra $\\mathfrak{sl}_2(\\mathbb{C}) \\times \\mathfrak{sl}_2(\\mathbb{C})$ on the representation $V(3) \\otimes V(1)$ given by \n",
    "<br><br>\n",
    "$$(\\chi_1, \\chi_2)\\bullet (u \\otimes v) = (\\chi_1 \\bullet u)\\otimes v + u \\otimes (\\chi_2 \\bullet v).$$"
   ]
  },
  {
   "cell_type": "markdown",
   "id": "977d813b",
   "metadata": {},
   "source": [
    "### Basis of the product Lie algebra\n",
    "Let $X_1= x\\partial{y} = \\begin{pmatrix}0&1//0&0\\end{pmatrix}$, $Y_1= y\\partial{x} = \\begin{pmatrix}0&0//1&0\\end{pmatrix}$ and $Z_1= x\\partial{x} - y\\partial{y} = \\begin{pmatrix}1&0//0&-1\\end{pmatrix}$ in this order be the basis of the first copy of $\\mathfrak{sl}_2(\\mathbb{C})$. \n",
    "<br><br>\n",
    "Like-wise let $(X_2, Y_2, Z_2)$ be the basis of the second copy of $\\mathfrak{sl}_2(\\mathbb{C})$.\n",
    "<br><br>\n",
    "We consider the basis of $\\mathfrak{sl}_2(\\mathbb{C}) \\times \\mathfrak{sl}_2(\\mathbb{C})$ given by $(X_1,\\,\\,Y_1,\\,\\,Z_1,\\,\\,X_2,\\,\\,Y_2,\\,\\,Z_2).$ "
   ]
  },
  {
   "cell_type": "markdown",
   "id": "6fabdb27",
   "metadata": {},
   "source": [
    "### Basis of $V(3)$ by heighest weight vectors\n",
    "Consider a basis $V(3)=\\langle u_1, u_2, u_3, u_4\\rangle$ of $V(3)$ made of heighest weight vectors of respective weights $3, 1, -1$ and $-3$.\n",
    "<br><br>\n",
    "$X_1 \\bullet u_1 = 0,\\,\\, X_1 \\bullet u_2 = u_1,\\,\\, X_1 \\bullet u_3 = 2u_2,\\,\\, X_1 \\bullet u_4 = 3u_3.$ Therefore the action of $X_1$ on $\\mathbb{C}[V(3)]$ is given by $X_1 = u_1\\partial{u_2} + 2u_2\\partial{u_3} + 3u_3\\partial{u_4}.$ Analogously we find\n",
    "<br><br>\n",
    "$Y_1 = 3u_2\\partial{u_1} + 2u_3\\partial{u_2} + u_4\\partial{u_3}$\n",
    "<br><br>\n",
    "$Z_1 = 3u_1\\partial{u_1} + u_2\\partial{u_2} - u_3\\partial{u_3} - 3u_4\\partial{u_4}.$ "
   ]
  },
  {
   "cell_type": "markdown",
   "id": "2a10c4fc",
   "metadata": {},
   "source": [
    "### Basis of $V(1)$ by heighest weight vectors\n",
    "Consider a basis $V(1)=\\langle v_1, v_2\\rangle$ of $V(1)$ made of heighest weight vectors of respective weights $1$ and $-1$.\n",
    "<br><br>\n",
    "$X_2.v_1 = 0,\\,\\, X_2.v_2 = v_1.$ Therefore the action of $X_2$ on $\\mathbb{C}[V(1)]$ is given by $X_2 = v_1\\partial{v_2}.$ Analogously we find\n",
    "<br><br>\n",
    "$Y_2 = v_2\\partial{v_1}$\n",
    "<br><br>\n",
    "$Z_2 = v_1\\partial{v_1} - v_2\\partial{v_2}.$"
   ]
  },
  {
   "cell_type": "markdown",
   "id": "1a595860",
   "metadata": {},
   "source": [
    "### Description of the action \n",
    "Endow $V(3) \\otimes V(1)$ with the basis $w_1,\\,\\, w_2,\\,\\, \\dots,\\,\\, w_8$ given by \n",
    "<br><br>\n",
    "$w_1 = u_1\\otimes v_1$, $w_2 = u_2\\otimes v_1$, $w_3 = u_3\\otimes v_1$, $w_4 = u_4\\otimes v_1$, $w_5 = u_1\\otimes v_2$, $\\dots$, $w_8 = u_4\\otimes v_2.$\n",
    "<br><br>\n",
    "$X_1 \\bullet w_1 = (X_1 \\bullet u_1) \\otimes v_1 = 0$. In the same way we compute the images of all the $w_i$'s. Therefore the action of $X_1$ on $\\mathbb{C}[V(3) \\otimes V(1)]$ is given by \n",
    "<br><br>\n",
    "$X_1 = w_1\\partial{w_2} + 2w_2\\partial{w_3} + 3w_3\\partial{w_4} + w_5\\partial{w_6} + 2w_6\\partial{w_7} + 3w_7\\partial{w_8}$. Analogously, we find\n",
    "<br><br>\n",
    "$Y_1 = 3w_2\\partial{w_1} + 2w_3\\partial{w_2} + w_4\\partial{w_3} + 3w_6\\partial{w_5} + 2w_7\\partial{w_6} + w_8\\partial{w_7}$\n",
    "<br><br>\n",
    "$Z_1 = 3w_1\\partial{w_1} + w_2\\partial{w_2} - w_3\\partial{w_3} - 3w_4\\partial{w_4} + 3w_5\\partial{w_5} + w_6\\partial{w_6} - w_7\\partial{w_7} - 3w_8\\partial{w_8}$\n",
    "<br><br>\n",
    "$X_2 = w_1\\partial{w_5} + w_2\\partial{w_6} + w_3\\partial{w_7} + w_4\\partial{w_8}$\n",
    "<br><br>\n",
    "$Y_2 = w_5\\partial{w_1} + w_6\\partial{w_2} + w_7\\partial{w_3} + w_8\\partial{w_4}$\n",
    "<br><br>\n",
    "$Z_2 = w_1\\partial{w_1} + w_2\\partial{w_2} + w_3\\partial{w_3} + w_4\\partial{w_4} - w_5\\partial{w_5} - w_6\\partial{w_6} - w_7\\partial{w_7} - w_8\\partial{w_8}$"
   ]
  },
  {
   "cell_type": "markdown",
   "id": "b04a7d92",
   "metadata": {},
   "source": [
    "# Statics"
   ]
  },
  {
   "cell_type": "markdown",
   "id": "ed89e8a7",
   "metadata": {},
   "source": [
    "1) $j_2$ is annihilated by all the operators.\n",
    "<br><br>\n",
    "2) $j_{41}$ is annihilated by the operators $X_1, Y_1, Z_1$.<br> \n",
    "$X_2 \\bullet j_{41} = 0$, $Z_2 \\bullet j_{41} = 4j_{41}$. \n",
    "<br><br>\n",
    "3) $j_{42}$ is annihilated by the operators $X_1, Y_1, Z_1$.<br> \n",
    "$Y_2 \\bullet j_{42} = 0$ and $Z_2 \\bullet j_{42} = -4j_{42}$. \n",
    "<br><br>\n",
    "4) $\\gamma_{3,1},\\dots,\\gamma_{3,4}$ : For the operators $X_1, Y_1, Z_1$, the coordinates of $\\gamma_{3,1},\\dots,\\gamma_{3,4}$ are weight vectors of weights $3,1,-1,-3$.<br><br>\n",
    "$Z_2 \\bullet \\gamma_{3,1} = 3\\gamma_{3,1}$<br>    \n",
    "$Z_2 \\bullet \\gamma_{3,2} = \\gamma_{3,2}$<br>    \n",
    "$Z_2 \\bullet \\gamma_{3,3} = -\\gamma_{3,3}$<br>    \n",
    "$Z_2 \\bullet \\gamma_{3,4} = -3\\gamma_{3,4}$<br> <br>   \n",
    "$Z_2 \\bullet j_2\\gamma_{1,1} = j_2\\gamma_{1,1}$<br>    \n",
    "$Z_2 \\bullet j_2\\gamma_{1,2} = -j_2\\gamma_{1,2}$.\n",
    "<br><br>  \n",
    "$X_2 \\bullet \\gamma_{3,1} = 0$<br>\n",
    "$X_2 \\bullet \\gamma_{3,2} = \\gamma_{3,1};\\,\\,\\,\\,\\,\\,\\,\\,$ $X_2 \\bullet j_2\\gamma_{1,1} = 0$<br>\n",
    "$X_2 \\bullet \\gamma_{3,3} = -j_2\\gamma_{1,1} + 2\\gamma_{3,2};\\,\\,\\,\\,\\,\\,\\,\\,$ $X_2 \\bullet j_2\\gamma_{1,2} = j_2\\gamma_{1,1}$<br>\n",
    "$X_2 \\bullet \\gamma_{3,4} = j_2\\gamma_{1,2} + 3\\gamma_{3,3}.$\n",
    "<br><br>\n",
    "5) $Z_2 \\bullet \\gamma_{1,1}\\beta_{2,1} = 3\\gamma_{1,1}\\beta_{2,1}$<br>  \n",
    "$Z_2 \\bullet \\gamma_{1,1}\\beta_{2,2} = \\gamma_{1,1}\\beta_{2,2}$<br>  \n",
    "$Z_2 \\bullet \\gamma_{1,2}\\beta_{2,1} = \\gamma_{1,2}\\beta_{2,1}$<br> \n",
    "$Z_2 \\bullet \\gamma_{1,1}\\beta_{2,3} = -\\gamma_{1,1}\\beta_{2,3}$<br>  \n",
    "$Z_2 \\bullet \\gamma_{1,2}\\beta_{2,2} = -\\gamma_{1,2}\\beta_{2,2}$<br>  \n",
    "$Z_2 \\bullet \\gamma_{1,2}\\beta_{2,3} = -3\\gamma_{1,2}\\beta_{2,3}$<br>\n",
    "<br><br>\n",
    "$Z_2 \\bullet (\\gamma_{1,2}\\beta_{2,2} - \\gamma_{1,1}\\beta_{2,3}) = -(\\gamma_{1,2}\\beta_{2,2} - \\gamma_{1,1}\\beta_{2,3})$<br>\n",
    "$Z_2 \\bullet (\\gamma_{1,2}\\beta_{2,1} - \\gamma_{1,1}\\beta_{2,2}) = +(\\gamma_{1,2}\\beta_{2,1} - \\gamma_{1,1}\\beta_{2,2})$<br>\n",
    "<br><br>  \n",
    "$X_2 \\bullet \\gamma_{1,1}\\beta_{2,1} = 0$<br>  \n",
    "$X_2 \\bullet \\gamma_{1,1}\\beta_{2,2} = 2\\gamma_{1,1}\\beta_{2,1};\\,\\,\\,\\,\\,\\,\\,\\,$ $X_2 \\bullet \\gamma_{1,2}\\beta_{2,1} = \\gamma_{1,1}\\beta_{2,1}$<br> \n",
    "$X_2 \\bullet \\gamma_{1,1}\\beta_{2,3} = \\gamma_{1,1}\\beta_{2,2};\\,\\,\\,\\,\\,\\,\\,\\,$ $X_2 \\bullet \\gamma_{1,2}\\beta_{2,2} = 2\\gamma_{1,2}\\beta_{2,1} + \\gamma_{1,1}\\beta_{2,2}$<br>  \n",
    "$X_2 \\bullet \\gamma_{1,2}\\beta_{2,3} = \\gamma_{1,1}\\beta_{2,3} + \\gamma_{1,2}\\beta_{2,2}$<br>\n",
    "<br><br>\n",
    "$X_2 \\bullet (\\gamma_{1,2}\\beta_{2,2} - \\gamma_{1,1}\\beta_{2,3}) = 2\\gamma_{1,2}\\beta_{2,1}$<br>\n",
    "$X_2 \\bullet (\\gamma_{1,2}\\beta_{2,1} - \\gamma_{1,1}\\beta_{2,2}) = -\\gamma_{1,1}\\beta_{2,1}$<br>\n",
    "\n",
    "\n",
    "\n"
   ]
  }
 ],
 "metadata": {
  "kernelspec": {
   "display_name": "SageMath 10.2",
   "language": "sage",
   "name": "sagemath"
  },
  "language_info": {
   "codemirror_mode": {
    "name": "ipython",
    "version": 3
   },
   "file_extension": ".py",
   "mimetype": "text/x-python",
   "name": "python",
   "nbconvert_exporter": "python",
   "pygments_lexer": "ipython3",
   "version": "3.11.1"
  }
 },
 "nbformat": 4,
 "nbformat_minor": 5
}
